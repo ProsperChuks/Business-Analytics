{
 "cells": [
  {
   "cell_type": "markdown",
   "id": "e332fd3e",
   "metadata": {
    "id": "e332fd3e"
   },
   "source": [
    "# Dependencies"
   ]
  },
  {
   "cell_type": "code",
   "execution_count": 1,
   "id": "2db7e136",
   "metadata": {
    "id": "2db7e136"
   },
   "outputs": [],
   "source": [
    "import pickle\n",
    "import matplotlib.pyplot as plt\n",
    "import seaborn as sns\n",
    "import numpy as np\n",
    "from scipy import stats\n",
    "from sklearn.preprocessing import StandardScaler\n",
    "from sklearn.cluster import KMeans\n",
    "import pandas as pd"
   ]
  },
  {
   "cell_type": "markdown",
   "id": "8dd0c823",
   "metadata": {
    "id": "8dd0c823"
   },
   "source": [
    "# De-serializing data"
   ]
  },
  {
   "cell_type": "code",
   "execution_count": 2,
   "id": "ec299d6a",
   "metadata": {
    "colab": {
     "base_uri": "https://localhost:8080/",
     "height": 487
    },
    "id": "ec299d6a",
    "outputId": "53cd301a-98c0-48f0-ba7b-6829a4bc734b"
   },
   "outputs": [
    {
     "data": {
      "text/html": [
       "<div>\n",
       "<style scoped>\n",
       "    .dataframe tbody tr th:only-of-type {\n",
       "        vertical-align: middle;\n",
       "    }\n",
       "\n",
       "    .dataframe tbody tr th {\n",
       "        vertical-align: top;\n",
       "    }\n",
       "\n",
       "    .dataframe thead th {\n",
       "        text-align: right;\n",
       "    }\n",
       "</style>\n",
       "<table border=\"1\" class=\"dataframe\">\n",
       "  <thead>\n",
       "    <tr style=\"text-align: right;\">\n",
       "      <th></th>\n",
       "      <th>user_id</th>\n",
       "      <th>Channel</th>\n",
       "      <th>TotalTransactionAmount</th>\n",
       "      <th>Tx_Count</th>\n",
       "      <th>DaysSinceLastTrans</th>\n",
       "      <th>reseller_id</th>\n",
       "      <th>superdealer_id</th>\n",
       "      <th>Product_ServiceProvider</th>\n",
       "      <th>Product_Type</th>\n",
       "      <th>Product_Category</th>\n",
       "    </tr>\n",
       "  </thead>\n",
       "  <tbody>\n",
       "    <tr>\n",
       "      <th>923</th>\n",
       "      <td>678</td>\n",
       "      <td>5.0</td>\n",
       "      <td>100</td>\n",
       "      <td>1</td>\n",
       "      <td>102</td>\n",
       "      <td>0.0</td>\n",
       "      <td>741.0</td>\n",
       "      <td>Airtel</td>\n",
       "      <td>Voucher Pin</td>\n",
       "      <td>Universal Pin</td>\n",
       "    </tr>\n",
       "    <tr>\n",
       "      <th>993</th>\n",
       "      <td>1042</td>\n",
       "      <td>5.0</td>\n",
       "      <td>801</td>\n",
       "      <td>9</td>\n",
       "      <td>106</td>\n",
       "      <td>0.0</td>\n",
       "      <td>501.0</td>\n",
       "      <td>MTN</td>\n",
       "      <td>Voucher Pin</td>\n",
       "      <td>Universal Pin</td>\n",
       "    </tr>\n",
       "    <tr>\n",
       "      <th>1027</th>\n",
       "      <td>1042</td>\n",
       "      <td>5.0</td>\n",
       "      <td>200</td>\n",
       "      <td>2</td>\n",
       "      <td>107</td>\n",
       "      <td>0.0</td>\n",
       "      <td>501.0</td>\n",
       "      <td>Glo</td>\n",
       "      <td>Voucher Pin</td>\n",
       "      <td>Universal Pin</td>\n",
       "    </tr>\n",
       "    <tr>\n",
       "      <th>1193</th>\n",
       "      <td>2253</td>\n",
       "      <td>5.0</td>\n",
       "      <td>100</td>\n",
       "      <td>1</td>\n",
       "      <td>114</td>\n",
       "      <td>0.0</td>\n",
       "      <td>447.0</td>\n",
       "      <td>9mobile</td>\n",
       "      <td>Voucher Pin</td>\n",
       "      <td>Universal Pin</td>\n",
       "    </tr>\n",
       "    <tr>\n",
       "      <th>1194</th>\n",
       "      <td>2253</td>\n",
       "      <td>5.0</td>\n",
       "      <td>100</td>\n",
       "      <td>1</td>\n",
       "      <td>114</td>\n",
       "      <td>0.0</td>\n",
       "      <td>447.0</td>\n",
       "      <td>Airtel</td>\n",
       "      <td>Voucher Pin</td>\n",
       "      <td>Universal Pin</td>\n",
       "    </tr>\n",
       "    <tr>\n",
       "      <th>2493</th>\n",
       "      <td>852</td>\n",
       "      <td>5.0</td>\n",
       "      <td>500</td>\n",
       "      <td>5</td>\n",
       "      <td>105</td>\n",
       "      <td>0.0</td>\n",
       "      <td>0.0</td>\n",
       "      <td>MTN</td>\n",
       "      <td>Voucher Pin</td>\n",
       "      <td>Universal Pin</td>\n",
       "    </tr>\n",
       "    <tr>\n",
       "      <th>2620</th>\n",
       "      <td>1642</td>\n",
       "      <td>5.0</td>\n",
       "      <td>861800</td>\n",
       "      <td>8996</td>\n",
       "      <td>30</td>\n",
       "      <td>0.0</td>\n",
       "      <td>1642.0</td>\n",
       "      <td>Airtel</td>\n",
       "      <td>Voucher Pin</td>\n",
       "      <td>Universal Pin</td>\n",
       "    </tr>\n",
       "    <tr>\n",
       "      <th>2621</th>\n",
       "      <td>1642</td>\n",
       "      <td>5.0</td>\n",
       "      <td>192150</td>\n",
       "      <td>2074</td>\n",
       "      <td>30</td>\n",
       "      <td>0.0</td>\n",
       "      <td>1642.0</td>\n",
       "      <td>9mobile</td>\n",
       "      <td>Voucher Pin</td>\n",
       "      <td>Universal Pin</td>\n",
       "    </tr>\n",
       "    <tr>\n",
       "      <th>2622</th>\n",
       "      <td>1642</td>\n",
       "      <td>5.0</td>\n",
       "      <td>1999950</td>\n",
       "      <td>21174</td>\n",
       "      <td>30</td>\n",
       "      <td>0.0</td>\n",
       "      <td>1642.0</td>\n",
       "      <td>MTN</td>\n",
       "      <td>Voucher Pin</td>\n",
       "      <td>Universal Pin</td>\n",
       "    </tr>\n",
       "    <tr>\n",
       "      <th>2624</th>\n",
       "      <td>1642</td>\n",
       "      <td>5.0</td>\n",
       "      <td>193550</td>\n",
       "      <td>2021</td>\n",
       "      <td>91</td>\n",
       "      <td>0.0</td>\n",
       "      <td>1642.0</td>\n",
       "      <td>Glo</td>\n",
       "      <td>Voucher Pin</td>\n",
       "      <td>Universal Pin</td>\n",
       "    </tr>\n",
       "    <tr>\n",
       "      <th>2625</th>\n",
       "      <td>1642</td>\n",
       "      <td>5.0</td>\n",
       "      <td>107850</td>\n",
       "      <td>1151</td>\n",
       "      <td>101</td>\n",
       "      <td>0.0</td>\n",
       "      <td>1642.0</td>\n",
       "      <td>Airtel</td>\n",
       "      <td>Voucher Pin</td>\n",
       "      <td>Universal Pin</td>\n",
       "    </tr>\n",
       "    <tr>\n",
       "      <th>2626</th>\n",
       "      <td>1642</td>\n",
       "      <td>5.0</td>\n",
       "      <td>1550</td>\n",
       "      <td>17</td>\n",
       "      <td>113</td>\n",
       "      <td>0.0</td>\n",
       "      <td>1642.0</td>\n",
       "      <td>MTN</td>\n",
       "      <td>Voucher Pin</td>\n",
       "      <td>Universal Pin</td>\n",
       "    </tr>\n",
       "    <tr>\n",
       "      <th>2627</th>\n",
       "      <td>1642</td>\n",
       "      <td>5.0</td>\n",
       "      <td>750</td>\n",
       "      <td>13</td>\n",
       "      <td>119</td>\n",
       "      <td>0.0</td>\n",
       "      <td>1642.0</td>\n",
       "      <td>9mobile</td>\n",
       "      <td>Voucher Pin</td>\n",
       "      <td>Universal Pin</td>\n",
       "    </tr>\n",
       "    <tr>\n",
       "      <th>2628</th>\n",
       "      <td>1642</td>\n",
       "      <td>5.0</td>\n",
       "      <td>350</td>\n",
       "      <td>4</td>\n",
       "      <td>119</td>\n",
       "      <td>0.0</td>\n",
       "      <td>1642.0</td>\n",
       "      <td>Glo</td>\n",
       "      <td>Voucher Pin</td>\n",
       "      <td>Universal Pin</td>\n",
       "    </tr>\n",
       "  </tbody>\n",
       "</table>\n",
       "</div>"
      ],
      "text/plain": [
       "      user_id  Channel  TotalTransactionAmount  Tx_Count  DaysSinceLastTrans  \\\n",
       "923       678      5.0                     100         1                 102   \n",
       "993      1042      5.0                     801         9                 106   \n",
       "1027     1042      5.0                     200         2                 107   \n",
       "1193     2253      5.0                     100         1                 114   \n",
       "1194     2253      5.0                     100         1                 114   \n",
       "2493      852      5.0                     500         5                 105   \n",
       "2620     1642      5.0                  861800      8996                  30   \n",
       "2621     1642      5.0                  192150      2074                  30   \n",
       "2622     1642      5.0                 1999950     21174                  30   \n",
       "2624     1642      5.0                  193550      2021                  91   \n",
       "2625     1642      5.0                  107850      1151                 101   \n",
       "2626     1642      5.0                    1550        17                 113   \n",
       "2627     1642      5.0                     750        13                 119   \n",
       "2628     1642      5.0                     350         4                 119   \n",
       "\n",
       "      reseller_id  superdealer_id Product_ServiceProvider Product_Type  \\\n",
       "923           0.0           741.0                  Airtel  Voucher Pin   \n",
       "993           0.0           501.0                     MTN  Voucher Pin   \n",
       "1027          0.0           501.0                     Glo  Voucher Pin   \n",
       "1193          0.0           447.0                 9mobile  Voucher Pin   \n",
       "1194          0.0           447.0                  Airtel  Voucher Pin   \n",
       "2493          0.0             0.0                     MTN  Voucher Pin   \n",
       "2620          0.0          1642.0                  Airtel  Voucher Pin   \n",
       "2621          0.0          1642.0                 9mobile  Voucher Pin   \n",
       "2622          0.0          1642.0                     MTN  Voucher Pin   \n",
       "2624          0.0          1642.0                     Glo  Voucher Pin   \n",
       "2625          0.0          1642.0                  Airtel  Voucher Pin   \n",
       "2626          0.0          1642.0                     MTN  Voucher Pin   \n",
       "2627          0.0          1642.0                 9mobile  Voucher Pin   \n",
       "2628          0.0          1642.0                     Glo  Voucher Pin   \n",
       "\n",
       "     Product_Category  \n",
       "923     Universal Pin  \n",
       "993     Universal Pin  \n",
       "1027    Universal Pin  \n",
       "1193    Universal Pin  \n",
       "1194    Universal Pin  \n",
       "2493    Universal Pin  \n",
       "2620    Universal Pin  \n",
       "2621    Universal Pin  \n",
       "2622    Universal Pin  \n",
       "2624    Universal Pin  \n",
       "2625    Universal Pin  \n",
       "2626    Universal Pin  \n",
       "2627    Universal Pin  \n",
       "2628    Universal Pin  "
      ]
     },
     "execution_count": 2,
     "metadata": {},
     "output_type": "execute_result"
    }
   ],
   "source": [
    "pin = pickle.load(open('serialized files/pin.pkl', 'rb'))\n",
    "pin"
   ]
  },
  {
   "cell_type": "markdown",
   "id": "0a868a55",
   "metadata": {
    "id": "0a868a55"
   },
   "source": [
    "# Preprocessing"
   ]
  },
  {
   "cell_type": "code",
   "execution_count": 3,
   "id": "0d53de3f",
   "metadata": {
    "colab": {
     "base_uri": "https://localhost:8080/",
     "height": 423
    },
    "id": "0d53de3f",
    "outputId": "9ef4f4f8-77cd-413e-9afb-8a67e651770c"
   },
   "outputs": [
    {
     "data": {
      "text/html": [
       "<div>\n",
       "<style scoped>\n",
       "    .dataframe tbody tr th:only-of-type {\n",
       "        vertical-align: middle;\n",
       "    }\n",
       "\n",
       "    .dataframe tbody tr th {\n",
       "        vertical-align: top;\n",
       "    }\n",
       "\n",
       "    .dataframe thead th {\n",
       "        text-align: right;\n",
       "    }\n",
       "</style>\n",
       "<table border=\"1\" class=\"dataframe\">\n",
       "  <thead>\n",
       "    <tr style=\"text-align: right;\">\n",
       "      <th></th>\n",
       "      <th>user_id</th>\n",
       "      <th>TotalTransactionAmount</th>\n",
       "      <th>Tx_Count</th>\n",
       "      <th>DaysSinceLastTrans</th>\n",
       "    </tr>\n",
       "  </thead>\n",
       "  <tbody>\n",
       "    <tr>\n",
       "      <th>923</th>\n",
       "      <td>678</td>\n",
       "      <td>100</td>\n",
       "      <td>1</td>\n",
       "      <td>102</td>\n",
       "    </tr>\n",
       "    <tr>\n",
       "      <th>993</th>\n",
       "      <td>1042</td>\n",
       "      <td>801</td>\n",
       "      <td>9</td>\n",
       "      <td>106</td>\n",
       "    </tr>\n",
       "    <tr>\n",
       "      <th>1027</th>\n",
       "      <td>1042</td>\n",
       "      <td>200</td>\n",
       "      <td>2</td>\n",
       "      <td>107</td>\n",
       "    </tr>\n",
       "    <tr>\n",
       "      <th>1193</th>\n",
       "      <td>2253</td>\n",
       "      <td>100</td>\n",
       "      <td>1</td>\n",
       "      <td>114</td>\n",
       "    </tr>\n",
       "    <tr>\n",
       "      <th>1194</th>\n",
       "      <td>2253</td>\n",
       "      <td>100</td>\n",
       "      <td>1</td>\n",
       "      <td>114</td>\n",
       "    </tr>\n",
       "    <tr>\n",
       "      <th>2493</th>\n",
       "      <td>852</td>\n",
       "      <td>500</td>\n",
       "      <td>5</td>\n",
       "      <td>105</td>\n",
       "    </tr>\n",
       "    <tr>\n",
       "      <th>2620</th>\n",
       "      <td>1642</td>\n",
       "      <td>861800</td>\n",
       "      <td>8996</td>\n",
       "      <td>30</td>\n",
       "    </tr>\n",
       "    <tr>\n",
       "      <th>2621</th>\n",
       "      <td>1642</td>\n",
       "      <td>192150</td>\n",
       "      <td>2074</td>\n",
       "      <td>30</td>\n",
       "    </tr>\n",
       "    <tr>\n",
       "      <th>2622</th>\n",
       "      <td>1642</td>\n",
       "      <td>1999950</td>\n",
       "      <td>21174</td>\n",
       "      <td>30</td>\n",
       "    </tr>\n",
       "    <tr>\n",
       "      <th>2624</th>\n",
       "      <td>1642</td>\n",
       "      <td>193550</td>\n",
       "      <td>2021</td>\n",
       "      <td>91</td>\n",
       "    </tr>\n",
       "    <tr>\n",
       "      <th>2625</th>\n",
       "      <td>1642</td>\n",
       "      <td>107850</td>\n",
       "      <td>1151</td>\n",
       "      <td>101</td>\n",
       "    </tr>\n",
       "    <tr>\n",
       "      <th>2626</th>\n",
       "      <td>1642</td>\n",
       "      <td>1550</td>\n",
       "      <td>17</td>\n",
       "      <td>113</td>\n",
       "    </tr>\n",
       "    <tr>\n",
       "      <th>2627</th>\n",
       "      <td>1642</td>\n",
       "      <td>750</td>\n",
       "      <td>13</td>\n",
       "      <td>119</td>\n",
       "    </tr>\n",
       "    <tr>\n",
       "      <th>2628</th>\n",
       "      <td>1642</td>\n",
       "      <td>350</td>\n",
       "      <td>4</td>\n",
       "      <td>119</td>\n",
       "    </tr>\n",
       "  </tbody>\n",
       "</table>\n",
       "</div>"
      ],
      "text/plain": [
       "      user_id  TotalTransactionAmount  Tx_Count  DaysSinceLastTrans\n",
       "923       678                     100         1                 102\n",
       "993      1042                     801         9                 106\n",
       "1027     1042                     200         2                 107\n",
       "1193     2253                     100         1                 114\n",
       "1194     2253                     100         1                 114\n",
       "2493      852                     500         5                 105\n",
       "2620     1642                  861800      8996                  30\n",
       "2621     1642                  192150      2074                  30\n",
       "2622     1642                 1999950     21174                  30\n",
       "2624     1642                  193550      2021                  91\n",
       "2625     1642                  107850      1151                 101\n",
       "2626     1642                    1550        17                 113\n",
       "2627     1642                     750        13                 119\n",
       "2628     1642                     350         4                 119"
      ]
     },
     "execution_count": 3,
     "metadata": {},
     "output_type": "execute_result"
    }
   ],
   "source": [
    "pin = pin[['user_id', 'TotalTransactionAmount', 'Tx_Count', 'DaysSinceLastTrans']]\n",
    "pin"
   ]
  },
  {
   "cell_type": "code",
   "execution_count": 4,
   "id": "db06e082",
   "metadata": {
    "colab": {
     "base_uri": "https://localhost:8080/",
     "height": 300
    },
    "id": "db06e082",
    "outputId": "0c6fc4ab-9120-4578-fe01-4569377b536b"
   },
   "outputs": [
    {
     "data": {
      "text/html": [
       "<div>\n",
       "<style scoped>\n",
       "    .dataframe tbody tr th:only-of-type {\n",
       "        vertical-align: middle;\n",
       "    }\n",
       "\n",
       "    .dataframe tbody tr th {\n",
       "        vertical-align: top;\n",
       "    }\n",
       "\n",
       "    .dataframe thead th {\n",
       "        text-align: right;\n",
       "    }\n",
       "</style>\n",
       "<table border=\"1\" class=\"dataframe\">\n",
       "  <thead>\n",
       "    <tr style=\"text-align: right;\">\n",
       "      <th></th>\n",
       "      <th>user_id</th>\n",
       "      <th>TotalTransactionAmount</th>\n",
       "      <th>Tx_Count</th>\n",
       "      <th>DaysSinceLastTrans</th>\n",
       "    </tr>\n",
       "  </thead>\n",
       "  <tbody>\n",
       "    <tr>\n",
       "      <th>count</th>\n",
       "      <td>14.000000</td>\n",
       "      <td>1.400000e+01</td>\n",
       "      <td>14.000000</td>\n",
       "      <td>14.000000</td>\n",
       "    </tr>\n",
       "    <tr>\n",
       "      <th>mean</th>\n",
       "      <td>1518.285714</td>\n",
       "      <td>2.399822e+05</td>\n",
       "      <td>2533.500000</td>\n",
       "      <td>91.500000</td>\n",
       "    </tr>\n",
       "    <tr>\n",
       "      <th>std</th>\n",
       "      <td>464.572993</td>\n",
       "      <td>5.562400e+05</td>\n",
       "      <td>5877.708119</td>\n",
       "      <td>34.157441</td>\n",
       "    </tr>\n",
       "    <tr>\n",
       "      <th>min</th>\n",
       "      <td>678.000000</td>\n",
       "      <td>1.000000e+02</td>\n",
       "      <td>1.000000</td>\n",
       "      <td>30.000000</td>\n",
       "    </tr>\n",
       "    <tr>\n",
       "      <th>25%</th>\n",
       "      <td>1192.000000</td>\n",
       "      <td>2.375000e+02</td>\n",
       "      <td>2.500000</td>\n",
       "      <td>93.500000</td>\n",
       "    </tr>\n",
       "    <tr>\n",
       "      <th>50%</th>\n",
       "      <td>1642.000000</td>\n",
       "      <td>7.755000e+02</td>\n",
       "      <td>11.000000</td>\n",
       "      <td>105.500000</td>\n",
       "    </tr>\n",
       "    <tr>\n",
       "      <th>75%</th>\n",
       "      <td>1642.000000</td>\n",
       "      <td>1.710750e+05</td>\n",
       "      <td>1803.500000</td>\n",
       "      <td>113.750000</td>\n",
       "    </tr>\n",
       "    <tr>\n",
       "      <th>max</th>\n",
       "      <td>2253.000000</td>\n",
       "      <td>1.999950e+06</td>\n",
       "      <td>21174.000000</td>\n",
       "      <td>119.000000</td>\n",
       "    </tr>\n",
       "  </tbody>\n",
       "</table>\n",
       "</div>"
      ],
      "text/plain": [
       "           user_id  TotalTransactionAmount      Tx_Count  DaysSinceLastTrans\n",
       "count    14.000000            1.400000e+01     14.000000           14.000000\n",
       "mean   1518.285714            2.399822e+05   2533.500000           91.500000\n",
       "std     464.572993            5.562400e+05   5877.708119           34.157441\n",
       "min     678.000000            1.000000e+02      1.000000           30.000000\n",
       "25%    1192.000000            2.375000e+02      2.500000           93.500000\n",
       "50%    1642.000000            7.755000e+02     11.000000          105.500000\n",
       "75%    1642.000000            1.710750e+05   1803.500000          113.750000\n",
       "max    2253.000000            1.999950e+06  21174.000000          119.000000"
      ]
     },
     "execution_count": 4,
     "metadata": {},
     "output_type": "execute_result"
    }
   ],
   "source": [
    "pin.describe()"
   ]
  },
  {
   "cell_type": "code",
   "execution_count": 5,
   "id": "8481e820",
   "metadata": {
    "colab": {
     "base_uri": "https://localhost:8080/",
     "height": 455
    },
    "id": "8481e820",
    "outputId": "9d08d22b-c129-4e4a-9004-d95ec708eadf",
    "scrolled": false
   },
   "outputs": [
    {
     "data": {
      "text/html": [
       "<div>\n",
       "<style scoped>\n",
       "    .dataframe tbody tr th:only-of-type {\n",
       "        vertical-align: middle;\n",
       "    }\n",
       "\n",
       "    .dataframe tbody tr th {\n",
       "        vertical-align: top;\n",
       "    }\n",
       "\n",
       "    .dataframe thead th {\n",
       "        text-align: right;\n",
       "    }\n",
       "</style>\n",
       "<table border=\"1\" class=\"dataframe\">\n",
       "  <thead>\n",
       "    <tr style=\"text-align: right;\">\n",
       "      <th></th>\n",
       "      <th>Amount</th>\n",
       "      <th>Freq</th>\n",
       "      <th>Re</th>\n",
       "    </tr>\n",
       "    <tr>\n",
       "      <th>user_id</th>\n",
       "      <th></th>\n",
       "      <th></th>\n",
       "      <th></th>\n",
       "    </tr>\n",
       "  </thead>\n",
       "  <tbody>\n",
       "    <tr>\n",
       "      <th>678</th>\n",
       "      <td>100</td>\n",
       "      <td>1</td>\n",
       "      <td>102</td>\n",
       "    </tr>\n",
       "    <tr>\n",
       "      <th>852</th>\n",
       "      <td>500</td>\n",
       "      <td>1</td>\n",
       "      <td>105</td>\n",
       "    </tr>\n",
       "    <tr>\n",
       "      <th>1042</th>\n",
       "      <td>1001</td>\n",
       "      <td>2</td>\n",
       "      <td>213</td>\n",
       "    </tr>\n",
       "    <tr>\n",
       "      <th>1642</th>\n",
       "      <td>3357950</td>\n",
       "      <td>8</td>\n",
       "      <td>633</td>\n",
       "    </tr>\n",
       "    <tr>\n",
       "      <th>2253</th>\n",
       "      <td>200</td>\n",
       "      <td>2</td>\n",
       "      <td>228</td>\n",
       "    </tr>\n",
       "  </tbody>\n",
       "</table>\n",
       "</div>"
      ],
      "text/plain": [
       "          Amount  Freq   Re\n",
       "user_id                    \n",
       "678          100     1  102\n",
       "852          500     1  105\n",
       "1042        1001     2  213\n",
       "1642     3357950     8  633\n",
       "2253         200     2  228"
      ]
     },
     "execution_count": 5,
     "metadata": {},
     "output_type": "execute_result"
    }
   ],
   "source": [
    "pin_customers = pin.groupby(['user_id']).agg({\n",
    "    'TotalTransactionAmount': 'sum',\n",
    "    'Tx_Count': 'count',\n",
    "    'DaysSinceLastTrans' : 'sum'\n",
    "})\n",
    "\n",
    "pin_customers.rename(columns={'TotalTransactionAmount': 'Amount',\n",
    "                                 'Tx_Count': 'Freq',\n",
    "                                'DaysSinceLastTrans': 'Re'}, inplace=True)\n",
    "pin_customers"
   ]
  },
  {
   "cell_type": "code",
   "execution_count": 6,
   "id": "cb56705e",
   "metadata": {
    "colab": {
     "base_uri": "https://localhost:8080/"
    },
    "id": "cb56705e",
    "outputId": "f704efb3-0118-4891-a7cc-a21b81378a27"
   },
   "outputs": [
    {
     "name": "stdout",
     "output_type": "stream",
     "text": [
      "1.8436953996420817\n",
      "2.0770565944246666\n",
      "2.2360676730928484\n"
     ]
    }
   ],
   "source": [
    "print(pin_customers.Re.skew())\n",
    "print(pin_customers.Freq.skew())\n",
    "print(pin_customers.Amount.skew())"
   ]
  },
  {
   "cell_type": "markdown",
   "id": "bdf0c94d",
   "metadata": {
    "id": "bdf0c94d"
   },
   "source": [
    "## Converting Data to Gaussian Distribution"
   ]
  },
  {
   "cell_type": "markdown",
   "id": "9c2dfab3",
   "metadata": {
    "id": "9c2dfab3"
   },
   "source": [
    "### Visualization"
   ]
  },
  {
   "cell_type": "code",
   "execution_count": 7,
   "id": "41722c7d",
   "metadata": {
    "colab": {
     "base_uri": "https://localhost:8080/",
     "height": 512
    },
    "id": "41722c7d",
    "outputId": "881aa3ef-233f-49ad-e9b5-41b899ce7568",
    "scrolled": false
   },
   "outputs": [
    {
     "data": {
      "image/png": "[encoded data removed]",
      "text/plain": [
       "<Figure size 864x504 with 4 Axes>"
      ]
     },
     "metadata": {
      "needs_background": "light"
     },
     "output_type": "display_data"
    }
   ],
   "source": [
    "import warnings\n",
    "warnings.filterwarnings('ignore')\n",
    "\n",
    "fig, ax = plt.subplots(2, 2, figsize=(12, 7))\n",
    "\n",
    "fig = sns.distplot(pin_customers.Re, color='b', ax=ax[0, 0])\n",
    "fig = sns.distplot(pin_customers.Amount, color='g', ax=ax[0, 1])\n",
    "fig = sns.distplot(pin_customers.Freq, color='y', ax=ax[1, 0])\n",
    "ax[0, 0].set_title('Recency')\n",
    "ax[0, 1].set_title('Income')\n",
    "ax[1, 0].set_title('Frequency')\n",
    "\n",
    "plt.tight_layout()\n",
    "plt.show()"
   ]
  },
  {
   "cell_type": "markdown",
   "id": "5bf8b1fa",
   "metadata": {
    "id": "5bf8b1fa"
   },
   "source": [
    "### Log Transformation"
   ]
  },
  {
   "cell_type": "code",
   "execution_count": 8,
   "id": "5c7a6b9e",
   "metadata": {
    "colab": {
     "base_uri": "https://localhost:8080/"
    },
    "id": "5c7a6b9e",
    "outputId": "1fc12c54-5c18-416e-b0ae-00e1fa1c2721"
   },
   "outputs": [
    {
     "name": "stdout",
     "output_type": "stream",
     "text": [
      "0.930263067318704\n",
      "1.360827634879543\n",
      "2.000503802891486\n"
     ]
    }
   ],
   "source": [
    "log_trans = pd.DataFrame()\n",
    "log_trans['Amount'] = np.log(pin_customers['Amount'])\n",
    "log_trans['Freq'] = np.log(pin_customers['Freq'])\n",
    "log_trans['Re'] = np.log(pin_customers['Re'])\n",
    "\n",
    "print(log_trans.Re.skew())\n",
    "print(log_trans.Freq.skew())\n",
    "print(log_trans.Amount.skew())"
   ]
  },
  {
   "cell_type": "markdown",
   "id": "xrJTMvwcWF2D",
   "metadata": {
    "id": "xrJTMvwcWF2D"
   },
   "source": [
    "#### After-Log-Transformation"
   ]
  },
  {
   "cell_type": "code",
   "execution_count": 9,
   "id": "XQIqBJ6SWIza",
   "metadata": {
    "colab": {
     "base_uri": "https://localhost:8080/",
     "height": 512
    },
    "id": "XQIqBJ6SWIza",
    "outputId": "0dedf2b2-a0fe-4119-922a-0cafb0c397dd"
   },
   "outputs": [
    {
     "data": {
      "image/png": "[encoded data removed]",
      "text/plain": [
       "<Figure size 864x504 with 4 Axes>"
      ]
     },
     "metadata": {
      "needs_background": "light"
     },
     "output_type": "display_data"
    }
   ],
   "source": [
    "fig, ax = plt.subplots(2, 2, figsize=(12, 7))\n",
    "\n",
    "fig = sns.distplot(log_trans.Re, color='b', ax=ax[0, 0])\n",
    "fig = sns.distplot(log_trans.Amount, color='g', ax=ax[0, 1])\n",
    "fig = sns.distplot(log_trans.Freq, color='y', ax=ax[1, 0])\n",
    "ax[0, 0].set_title('Recency')\n",
    "ax[0, 1].set_title('Income')\n",
    "ax[1, 0].set_title('Frequency')\n",
    "\n",
    "plt.tight_layout()\n",
    "plt.show()"
   ]
  },
  {
   "cell_type": "markdown",
   "id": "21f41153",
   "metadata": {
    "id": "21f41153"
   },
   "source": [
    "### BoxCox Transfromation"
   ]
  },
  {
   "cell_type": "code",
   "execution_count": 25,
   "id": "fafb9b6f",
   "metadata": {
    "colab": {
     "base_uri": "https://localhost:8080/"
    },
    "id": "fafb9b6f",
    "outputId": "87be6f71-edf7-4018-c5d9-9a30d10be86d",
    "scrolled": false
   },
   "outputs": [
    {
     "name": "stdout",
     "output_type": "stream",
     "text": [
      "0.2716277366720195\n",
      "0.4080387045404123\n",
      "0.8607388033547918\n"
     ]
    }
   ],
   "source": [
    "boxcox_trans = pd.DataFrame()\n",
    "boxcox_trans['Amount'] = stats.boxcox(pin_customers['Amount'])[0]\n",
    "boxcox_trans['Freq'] = stats.boxcox(pin_customers['Freq'])[0]\n",
    "boxcox_trans['Re'] = stats.boxcox(pin_customers['Re'])[0]\n",
    "\n",
    "print(boxcox_trans.Re.skew())\n",
    "print(boxcox_trans.Freq.skew())\n",
    "print(boxcox_trans.Amount.skew())"
   ]
  },
  {
   "cell_type": "markdown",
   "id": "98cb751e",
   "metadata": {
    "id": "98cb751e"
   },
   "source": [
    "#### After-Boxcox-Transformation"
   ]
  },
  {
   "cell_type": "code",
   "execution_count": 26,
   "id": "727e1996",
   "metadata": {
    "colab": {
     "base_uri": "https://localhost:8080/",
     "height": 512
    },
    "id": "727e1996",
    "outputId": "164c2c9f-5b4a-4b03-a803-128d2c0eae3f",
    "scrolled": false
   },
   "outputs": [
    {
     "data": {
      "image/png": "[encoded data removed]",
      "text/plain": [
       "<Figure size 864x504 with 4 Axes>"
      ]
     },
     "metadata": {
      "needs_background": "light"
     },
     "output_type": "display_data"
    }
   ],
   "source": [
    "fig, ax = plt.subplots(2, 2, figsize=(12, 7))\n",
    "\n",
    "fig = sns.distplot(boxcox_trans.Re, color='b', ax=ax[0, 0])\n",
    "fig = sns.distplot(boxcox_trans.Amount, color='g', ax=ax[0, 1])\n",
    "fig = sns.distplot(boxcox_trans.Freq, color='y', ax=ax[1, 0])\n",
    "ax[0, 0].set_title('Recency')\n",
    "ax[0, 1].set_title('Income')\n",
    "ax[1, 0].set_title('Frequency')\n",
    "\n",
    "plt.tight_layout()\n",
    "plt.show()"
   ]
  },
  {
   "cell_type": "markdown",
   "id": "hrOEUs3k-W8L",
   "metadata": {
    "id": "hrOEUs3k-W8L"
   },
   "source": [
    "### Cubic Root Transformation"
   ]
  },
  {
   "cell_type": "code",
   "execution_count": 12,
   "id": "MkH7FaJ0-YmX",
   "metadata": {
    "colab": {
     "base_uri": "https://localhost:8080/"
    },
    "id": "MkH7FaJ0-YmX",
    "outputId": "64a438db-ad5a-48b5-96ef-75f354e105ed"
   },
   "outputs": [
    {
     "name": "stdout",
     "output_type": "stream",
     "text": [
      "1.296844319778245\n",
      "1.6951648811372222\n",
      "2.2303390000469405\n"
     ]
    }
   ],
   "source": [
    "square_trans = pd.DataFrame()\n",
    "square_trans['Amount'] = np.cbrt(pin_customers['Amount'])\n",
    "square_trans['Freq'] = np.cbrt(pin_customers['Freq'])\n",
    "square_trans['Re'] = np.cbrt(pin_customers['Re'])\n",
    "\n",
    "print(square_trans.Re.skew())\n",
    "print(square_trans.Freq.skew())\n",
    "print(square_trans.Amount.skew())"
   ]
  },
  {
   "cell_type": "markdown",
   "id": "PfKPTOdr-nGq",
   "metadata": {
    "id": "PfKPTOdr-nGq"
   },
   "source": [
    "#### After-Cubic-Root-Transformation"
   ]
  },
  {
   "cell_type": "code",
   "execution_count": 13,
   "id": "r0mz81wz-web",
   "metadata": {
    "colab": {
     "base_uri": "https://localhost:8080/",
     "height": 512
    },
    "id": "r0mz81wz-web",
    "outputId": "a0b0d68b-ac6e-4a6b-abcc-93a2d9a95ad8"
   },
   "outputs": [
    {
     "data": {
      "image/png": "[encoded data removed]",
      "text/plain": [
       "<Figure size 864x504 with 4 Axes>"
      ]
     },
     "metadata": {
      "needs_background": "light"
     },
     "output_type": "display_data"
    }
   ],
   "source": [
    "fig, ax = plt.subplots(2, 2, figsize=(12, 7))\n",
    "\n",
    "fig = sns.distplot(square_trans.Re, color='b', ax=ax[0, 0])\n",
    "fig = sns.distplot(square_trans.Amount, color='g', ax=ax[0, 1])\n",
    "fig = sns.distplot(square_trans.Freq, color='y', ax=ax[1, 0])\n",
    "ax[0, 0].set_title('Recency')\n",
    "ax[0, 1].set_title('Income')\n",
    "ax[1, 0].set_title('Frequency')\n",
    "\n",
    "plt.tight_layout()\n",
    "plt.show()"
   ]
  },
  {
   "cell_type": "markdown",
   "id": "8yYXavsbJiS-",
   "metadata": {
    "id": "8yYXavsbJiS-"
   },
   "source": [
    "<b>BOX COX Transfroms the Data Better</b>"
   ]
  },
  {
   "cell_type": "markdown",
   "id": "8b0c2d1c",
   "metadata": {
    "id": "8b0c2d1c"
   },
   "source": [
    "### Normalization"
   ]
  },
  {
   "cell_type": "code",
   "execution_count": 27,
   "id": "8dc3db19",
   "metadata": {
    "id": "8dc3db19"
   },
   "outputs": [],
   "source": [
    "scale = StandardScaler()\n",
    "scale.fit(boxcox_trans)\n",
    "pin_normalized = scale.transform(boxcox_trans)"
   ]
  },
  {
   "cell_type": "code",
   "execution_count": 28,
   "id": "5065275c",
   "metadata": {
    "colab": {
     "base_uri": "https://localhost:8080/",
     "height": 547
    },
    "id": "5065275c",
    "outputId": "a1dab925-510f-408b-de62-357a39f12052"
   },
   "outputs": [
    {
     "data": {
      "image/png": "[encoded data removed]",
      "text/plain": [
       "<Figure size 864x504 with 4 Axes>"
      ]
     },
     "metadata": {
      "needs_background": "light"
     },
     "output_type": "display_data"
    },
    {
     "name": "stdout",
     "output_type": "stream",
     "text": [
      "[ 0.  0. -0.]\n",
      "[1. 1. 1.]\n"
     ]
    }
   ],
   "source": [
    "fig, ax = plt.subplots(2, 2, figsize=(12, 7))\n",
    "\n",
    "fig = sns.distplot(pin_normalized[0], color='b', ax=ax[0, 0])\n",
    "fig = sns.distplot(pin_normalized[1], color='g', ax=ax[0, 1])\n",
    "fig = sns.distplot(pin_normalized[2], color='y', ax=ax[1, 0])\n",
    "ax[0, 0].set_title('Recency')\n",
    "ax[0, 1].set_title('Income')\n",
    "ax[1, 0].set_title('Frequency')\n",
    "\n",
    "plt.tight_layout()\n",
    "plt.show()\n",
    "\n",
    "print(pin_normalized.mean(axis = 0).round(2))\n",
    "print(pin_normalized.std(axis = 0).round(2))"
   ]
  },
  {
   "cell_type": "markdown",
   "id": "28284e33",
   "metadata": {
    "id": "28284e33"
   },
   "source": [
    "# Clustering"
   ]
  },
  {
   "cell_type": "markdown",
   "id": "1299e49d",
   "metadata": {
    "id": "1299e49d"
   },
   "source": [
    "## Hyperparameter Tuning using the Elbow Method"
   ]
  },
  {
   "cell_type": "code",
   "execution_count": 33,
   "id": "9180a890",
   "metadata": {
    "colab": {
     "base_uri": "https://localhost:8080/",
     "height": 295
    },
    "id": "9180a890",
    "outputId": "e5991293-a31a-487c-b449-195bf2459cc9"
   },
   "outputs": [
    {
     "data": {
      "image/png": "[encoded data removed]",
      "text/plain": [
       "<Figure size 432x288 with 1 Axes>"
      ]
     },
     "metadata": {
      "needs_background": "light"
     },
     "output_type": "display_data"
    }
   ],
   "source": [
    "sse = {}\n",
    "\n",
    "for k in range(1, 6):\n",
    "    kmeans = KMeans(n_clusters=k, random_state=42)\n",
    "    kmeans.fit(pin_normalized)\n",
    "    sse[k] = kmeans.inertia_\n",
    "plt.title('The Elbow Method')\n",
    "plt.xlabel('Number of Clusters')\n",
    "plt.ylabel('Sum of Squared Distance')\n",
    "sns.pointplot(x=list(sse.keys()), y=list(sse.values()))\n",
    "plt.show()"
   ]
  },
  {
   "cell_type": "code",
   "execution_count": 34,
   "id": "94cbc92a",
   "metadata": {
    "colab": {
     "base_uri": "https://localhost:8080/"
    },
    "id": "94cbc92a",
    "outputId": "cf2b73a5-8e23-45ae-f075-dedfefda3b47"
   },
   "outputs": [
    {
     "data": {
      "text/plain": [
       "array([1, 1, 2, 0, 2])"
      ]
     },
     "execution_count": 34,
     "metadata": {},
     "output_type": "execute_result"
    }
   ],
   "source": [
    "model = KMeans(n_clusters=3, random_state=42)\n",
    "model.fit(pin_normalized)\n",
    "model.labels_"
   ]
  },
  {
   "cell_type": "markdown",
   "id": "53fd1cb3",
   "metadata": {
    "id": "53fd1cb3"
   },
   "source": [
    "## Matching labels with each customer"
   ]
  },
  {
   "cell_type": "code",
   "execution_count": 35,
   "id": "c21b7ed8",
   "metadata": {
    "colab": {
     "base_uri": "https://localhost:8080/",
     "height": 455
    },
    "id": "c21b7ed8",
    "outputId": "348ec42b-4e70-4848-b14c-eb6d3df5d457",
    "scrolled": true
   },
   "outputs": [
    {
     "data": {
      "text/html": [
       "<div>\n",
       "<style scoped>\n",
       "    .dataframe tbody tr th:only-of-type {\n",
       "        vertical-align: middle;\n",
       "    }\n",
       "\n",
       "    .dataframe tbody tr th {\n",
       "        vertical-align: top;\n",
       "    }\n",
       "\n",
       "    .dataframe thead th {\n",
       "        text-align: right;\n",
       "    }\n",
       "</style>\n",
       "<table border=\"1\" class=\"dataframe\">\n",
       "  <thead>\n",
       "    <tr style=\"text-align: right;\">\n",
       "      <th></th>\n",
       "      <th>Amount</th>\n",
       "      <th>Freq</th>\n",
       "      <th>Re</th>\n",
       "      <th>Cluster</th>\n",
       "    </tr>\n",
       "    <tr>\n",
       "      <th>user_id</th>\n",
       "      <th></th>\n",
       "      <th></th>\n",
       "      <th></th>\n",
       "      <th></th>\n",
       "    </tr>\n",
       "  </thead>\n",
       "  <tbody>\n",
       "    <tr>\n",
       "      <th>678</th>\n",
       "      <td>100</td>\n",
       "      <td>1</td>\n",
       "      <td>102</td>\n",
       "      <td>1</td>\n",
       "    </tr>\n",
       "    <tr>\n",
       "      <th>852</th>\n",
       "      <td>500</td>\n",
       "      <td>1</td>\n",
       "      <td>105</td>\n",
       "      <td>1</td>\n",
       "    </tr>\n",
       "    <tr>\n",
       "      <th>1042</th>\n",
       "      <td>1001</td>\n",
       "      <td>2</td>\n",
       "      <td>213</td>\n",
       "      <td>2</td>\n",
       "    </tr>\n",
       "    <tr>\n",
       "      <th>1642</th>\n",
       "      <td>3357950</td>\n",
       "      <td>8</td>\n",
       "      <td>633</td>\n",
       "      <td>0</td>\n",
       "    </tr>\n",
       "    <tr>\n",
       "      <th>2253</th>\n",
       "      <td>200</td>\n",
       "      <td>2</td>\n",
       "      <td>228</td>\n",
       "      <td>2</td>\n",
       "    </tr>\n",
       "  </tbody>\n",
       "</table>\n",
       "</div>"
      ],
      "text/plain": [
       "          Amount  Freq   Re  Cluster\n",
       "user_id                             \n",
       "678          100     1  102        1\n",
       "852          500     1  105        1\n",
       "1042        1001     2  213        2\n",
       "1642     3357950     8  633        0\n",
       "2253         200     2  228        2"
      ]
     },
     "execution_count": 35,
     "metadata": {},
     "output_type": "execute_result"
    }
   ],
   "source": [
    "pin_customers[\"Cluster\"] = model.labels_\n",
    "pin_customers.groupby('Cluster').agg({\n",
    "    'Re':'mean',\n",
    "    'Freq':'mean',\n",
    "    'Amount':['mean', 'count']}).round(2)\n",
    "pin_customers"
   ]
  },
  {
   "cell_type": "markdown",
   "id": "0d0a5ceb",
   "metadata": {
    "id": "0d0a5ceb"
   },
   "source": [
    "## Melting the Dataframe"
   ]
  },
  {
   "cell_type": "code",
   "execution_count": 36,
   "id": "eea1f043",
   "metadata": {
    "colab": {
     "base_uri": "https://localhost:8080/",
     "height": 423
    },
    "id": "eea1f043",
    "outputId": "0aed8679-fea7-4e00-9935-6f3490f9ead6",
    "scrolled": true
   },
   "outputs": [
    {
     "data": {
      "text/html": [
       "<div>\n",
       "<style scoped>\n",
       "    .dataframe tbody tr th:only-of-type {\n",
       "        vertical-align: middle;\n",
       "    }\n",
       "\n",
       "    .dataframe tbody tr th {\n",
       "        vertical-align: top;\n",
       "    }\n",
       "\n",
       "    .dataframe thead th {\n",
       "        text-align: right;\n",
       "    }\n",
       "</style>\n",
       "<table border=\"1\" class=\"dataframe\">\n",
       "  <thead>\n",
       "    <tr style=\"text-align: right;\">\n",
       "      <th></th>\n",
       "      <th>Cust ID</th>\n",
       "      <th>Cluster</th>\n",
       "      <th>Attribute</th>\n",
       "      <th>Value</th>\n",
       "    </tr>\n",
       "  </thead>\n",
       "  <tbody>\n",
       "    <tr>\n",
       "      <th>0</th>\n",
       "      <td>678</td>\n",
       "      <td>1</td>\n",
       "      <td>Re</td>\n",
       "      <td>-1.234351</td>\n",
       "    </tr>\n",
       "    <tr>\n",
       "      <th>1</th>\n",
       "      <td>852</td>\n",
       "      <td>1</td>\n",
       "      <td>Re</td>\n",
       "      <td>-0.081764</td>\n",
       "    </tr>\n",
       "    <tr>\n",
       "      <th>2</th>\n",
       "      <td>1042</td>\n",
       "      <td>2</td>\n",
       "      <td>Re</td>\n",
       "      <td>0.272249</td>\n",
       "    </tr>\n",
       "    <tr>\n",
       "      <th>3</th>\n",
       "      <td>1642</td>\n",
       "      <td>0</td>\n",
       "      <td>Re</td>\n",
       "      <td>1.715823</td>\n",
       "    </tr>\n",
       "    <tr>\n",
       "      <th>4</th>\n",
       "      <td>2253</td>\n",
       "      <td>2</td>\n",
       "      <td>Re</td>\n",
       "      <td>-0.671957</td>\n",
       "    </tr>\n",
       "    <tr>\n",
       "      <th>5</th>\n",
       "      <td>678</td>\n",
       "      <td>1</td>\n",
       "      <td>Freq</td>\n",
       "      <td>-1.085115</td>\n",
       "    </tr>\n",
       "    <tr>\n",
       "      <th>6</th>\n",
       "      <td>852</td>\n",
       "      <td>1</td>\n",
       "      <td>Freq</td>\n",
       "      <td>-1.085115</td>\n",
       "    </tr>\n",
       "    <tr>\n",
       "      <th>7</th>\n",
       "      <td>1042</td>\n",
       "      <td>2</td>\n",
       "      <td>Freq</td>\n",
       "      <td>0.300112</td>\n",
       "    </tr>\n",
       "    <tr>\n",
       "      <th>8</th>\n",
       "      <td>1642</td>\n",
       "      <td>0</td>\n",
       "      <td>Freq</td>\n",
       "      <td>1.570005</td>\n",
       "    </tr>\n",
       "    <tr>\n",
       "      <th>9</th>\n",
       "      <td>2253</td>\n",
       "      <td>2</td>\n",
       "      <td>Freq</td>\n",
       "      <td>0.300112</td>\n",
       "    </tr>\n",
       "    <tr>\n",
       "      <th>10</th>\n",
       "      <td>678</td>\n",
       "      <td>1</td>\n",
       "      <td>Amount</td>\n",
       "      <td>-1.139034</td>\n",
       "    </tr>\n",
       "    <tr>\n",
       "      <th>11</th>\n",
       "      <td>852</td>\n",
       "      <td>1</td>\n",
       "      <td>Amount</td>\n",
       "      <td>-1.069827</td>\n",
       "    </tr>\n",
       "    <tr>\n",
       "      <th>12</th>\n",
       "      <td>1042</td>\n",
       "      <td>2</td>\n",
       "      <td>Amount</td>\n",
       "      <td>0.291926</td>\n",
       "    </tr>\n",
       "    <tr>\n",
       "      <th>13</th>\n",
       "      <td>1642</td>\n",
       "      <td>0</td>\n",
       "      <td>Amount</td>\n",
       "      <td>1.522174</td>\n",
       "    </tr>\n",
       "    <tr>\n",
       "      <th>14</th>\n",
       "      <td>2253</td>\n",
       "      <td>2</td>\n",
       "      <td>Amount</td>\n",
       "      <td>0.394761</td>\n",
       "    </tr>\n",
       "  </tbody>\n",
       "</table>\n",
       "</div>"
      ],
      "text/plain": [
       "    Cust ID  Cluster Attribute     Value\n",
       "0       678        1        Re -1.234351\n",
       "1       852        1        Re -0.081764\n",
       "2      1042        2        Re  0.272249\n",
       "3      1642        0        Re  1.715823\n",
       "4      2253        2        Re -0.671957\n",
       "5       678        1      Freq -1.085115\n",
       "6       852        1      Freq -1.085115\n",
       "7      1042        2      Freq  0.300112\n",
       "8      1642        0      Freq  1.570005\n",
       "9      2253        2      Freq  0.300112\n",
       "10      678        1    Amount -1.139034\n",
       "11      852        1    Amount -1.069827\n",
       "12     1042        2    Amount  0.291926\n",
       "13     1642        0    Amount  1.522174\n",
       "14     2253        2    Amount  0.394761"
      ]
     },
     "execution_count": 36,
     "metadata": {},
     "output_type": "execute_result"
    }
   ],
   "source": [
    "df_normalized = pd.DataFrame(pin_normalized, columns=['Re', 'Freq', 'Amount'])\n",
    "df_normalized['Cust ID'] = pin_customers.index\n",
    "df_normalized['Cluster'] = model.labels_\n",
    "\n",
    "df_nor_melt = pd.melt(df_normalized.reset_index(),\n",
    "                      id_vars=['Cust ID', 'Cluster'],\n",
    "                      value_vars=['Re','Freq','Amount'],\n",
    "                      var_name='Attribute',\n",
    "                      value_name='Value')\n",
    "df_nor_melt"
   ]
  },
  {
   "cell_type": "markdown",
   "id": "0Xk6fhGYUiXZ",
   "metadata": {
    "id": "0Xk6fhGYUiXZ"
   },
   "source": [
    "### Visualization"
   ]
  },
  {
   "cell_type": "code",
   "execution_count": 37,
   "id": "da170f71",
   "metadata": {
    "colab": {
     "base_uri": "https://localhost:8080/",
     "height": 497
    },
    "id": "da170f71",
    "outputId": "65d481b5-3bd0-44f0-893a-f35e14c1ab3e"
   },
   "outputs": [
    {
     "data": {
      "image/png": "[encoded data removed]",
      "text/plain": [
       "<Figure size 1080x576 with 1 Axes>"
      ]
     },
     "metadata": {
      "needs_background": "light"
     },
     "output_type": "display_data"
    }
   ],
   "source": [
    "plt.figure(figsize=(15, 8))\n",
    "sns.lineplot('Attribute', 'Value', hue='Cluster', data=df_nor_melt)\n",
    "plt.show()"
   ]
  }
 ],
 "metadata": {
  "colab": {
   "name": "Telecommunication.ipynb",
   "provenance": [],
   "toc_visible": true
  },
  "kernelspec": {
   "display_name": "Python 3",
   "language": "python",
   "name": "python3"
  },
  "language_info": {
   "codemirror_mode": {
    "name": "ipython",
    "version": 3
   },
   "file_extension": ".py",
   "mimetype": "text/x-python",
   "name": "python",
   "nbconvert_exporter": "python",
   "pygments_lexer": "ipython3",
   "version": "3.8.8"
  }
 },
 "nbformat": 4,
 "nbformat_minor": 5
}
