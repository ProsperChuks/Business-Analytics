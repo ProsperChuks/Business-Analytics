{
 "cells": [
  {
   "cell_type": "markdown",
   "id": "e332fd3e",
   "metadata": {
    "id": "e332fd3e"
   },
   "source": [
    "# Dependencies"
   ]
  },
  {
   "cell_type": "code",
   "execution_count": 56,
   "id": "2db7e136",
   "metadata": {
    "id": "2db7e136"
   },
   "outputs": [],
   "source": [
    "import pickle\n",
    "import matplotlib.pyplot as plt\n",
    "import seaborn as sns\n",
    "import numpy as np\n",
    "from scipy import stats\n",
    "from sklearn.preprocessing import StandardScaler\n",
    "from sklearn.cluster import KMeans\n",
    "import pandas as pd"
   ]
  },
  {
   "cell_type": "markdown",
   "id": "8dd0c823",
   "metadata": {
    "id": "8dd0c823"
   },
   "source": [
    "# De-serializing data"
   ]
  },
  {
   "cell_type": "code",
   "execution_count": 57,
   "id": "ec299d6a",
   "metadata": {
    "colab": {
     "base_uri": "https://localhost:8080/",
     "height": 487
    },
    "id": "ec299d6a",
    "outputId": "53cd301a-98c0-48f0-ba7b-6829a4bc734b"
   },
   "outputs": [
    {
     "data": {
      "text/html": [
       "<div>\n",
       "<style scoped>\n",
       "    .dataframe tbody tr th:only-of-type {\n",
       "        vertical-align: middle;\n",
       "    }\n",
       "\n",
       "    .dataframe tbody tr th {\n",
       "        vertical-align: top;\n",
       "    }\n",
       "\n",
       "    .dataframe thead th {\n",
       "        text-align: right;\n",
       "    }\n",
       "</style>\n",
       "<table border=\"1\" class=\"dataframe\">\n",
       "  <thead>\n",
       "    <tr style=\"text-align: right;\">\n",
       "      <th></th>\n",
       "      <th>user_id</th>\n",
       "      <th>Channel</th>\n",
       "      <th>TotalTransactionAmount</th>\n",
       "      <th>Tx_Count</th>\n",
       "      <th>DaysSinceLastTrans</th>\n",
       "      <th>reseller_id</th>\n",
       "      <th>superdealer_id</th>\n",
       "      <th>Product_ServiceProvider</th>\n",
       "      <th>Product_Type</th>\n",
       "      <th>Product_Category</th>\n",
       "    </tr>\n",
       "  </thead>\n",
       "  <tbody>\n",
       "    <tr>\n",
       "      <th>1</th>\n",
       "      <td>1287</td>\n",
       "      <td>1.0</td>\n",
       "      <td>1635552</td>\n",
       "      <td>131</td>\n",
       "      <td>30</td>\n",
       "      <td>0.0</td>\n",
       "      <td>18.0</td>\n",
       "      <td>MTN</td>\n",
       "      <td>Airtime</td>\n",
       "      <td>Telco</td>\n",
       "    </tr>\n",
       "    <tr>\n",
       "      <th>3</th>\n",
       "      <td>1119</td>\n",
       "      <td>2.0</td>\n",
       "      <td>12200</td>\n",
       "      <td>13</td>\n",
       "      <td>30</td>\n",
       "      <td>0.0</td>\n",
       "      <td>447.0</td>\n",
       "      <td>Airtel</td>\n",
       "      <td>Data</td>\n",
       "      <td>Telco</td>\n",
       "    </tr>\n",
       "    <tr>\n",
       "      <th>5</th>\n",
       "      <td>1119</td>\n",
       "      <td>1.0</td>\n",
       "      <td>53400</td>\n",
       "      <td>106</td>\n",
       "      <td>30</td>\n",
       "      <td>0.0</td>\n",
       "      <td>447.0</td>\n",
       "      <td>MTN</td>\n",
       "      <td>Airtime</td>\n",
       "      <td>Telco</td>\n",
       "    </tr>\n",
       "    <tr>\n",
       "      <th>7</th>\n",
       "      <td>919</td>\n",
       "      <td>1.0</td>\n",
       "      <td>75100</td>\n",
       "      <td>319</td>\n",
       "      <td>30</td>\n",
       "      <td>0.0</td>\n",
       "      <td>447.0</td>\n",
       "      <td>Glo</td>\n",
       "      <td>Airtime</td>\n",
       "      <td>Telco</td>\n",
       "    </tr>\n",
       "    <tr>\n",
       "      <th>8</th>\n",
       "      <td>919</td>\n",
       "      <td>1.0</td>\n",
       "      <td>97350</td>\n",
       "      <td>265</td>\n",
       "      <td>30</td>\n",
       "      <td>0.0</td>\n",
       "      <td>447.0</td>\n",
       "      <td>MTN</td>\n",
       "      <td>Airtime</td>\n",
       "      <td>Telco</td>\n",
       "    </tr>\n",
       "    <tr>\n",
       "      <th>...</th>\n",
       "      <td>...</td>\n",
       "      <td>...</td>\n",
       "      <td>...</td>\n",
       "      <td>...</td>\n",
       "      <td>...</td>\n",
       "      <td>...</td>\n",
       "      <td>...</td>\n",
       "      <td>...</td>\n",
       "      <td>...</td>\n",
       "      <td>...</td>\n",
       "    </tr>\n",
       "    <tr>\n",
       "      <th>2617</th>\n",
       "      <td>2674</td>\n",
       "      <td>2.0</td>\n",
       "      <td>850</td>\n",
       "      <td>3</td>\n",
       "      <td>36</td>\n",
       "      <td>2557.0</td>\n",
       "      <td>501.0</td>\n",
       "      <td>Airtel</td>\n",
       "      <td>Data</td>\n",
       "      <td>Telco</td>\n",
       "    </tr>\n",
       "    <tr>\n",
       "      <th>2618</th>\n",
       "      <td>2674</td>\n",
       "      <td>1.0</td>\n",
       "      <td>200</td>\n",
       "      <td>1</td>\n",
       "      <td>42</td>\n",
       "      <td>2557.0</td>\n",
       "      <td>501.0</td>\n",
       "      <td>Glo</td>\n",
       "      <td>Airtime</td>\n",
       "      <td>Telco</td>\n",
       "    </tr>\n",
       "    <tr>\n",
       "      <th>2623</th>\n",
       "      <td>2630</td>\n",
       "      <td>1.0</td>\n",
       "      <td>100</td>\n",
       "      <td>1</td>\n",
       "      <td>30</td>\n",
       "      <td>0.0</td>\n",
       "      <td>501.0</td>\n",
       "      <td>Glo</td>\n",
       "      <td>Airtime</td>\n",
       "      <td>Telco</td>\n",
       "    </tr>\n",
       "    <tr>\n",
       "      <th>2630</th>\n",
       "      <td>2421</td>\n",
       "      <td>1.0</td>\n",
       "      <td>1400</td>\n",
       "      <td>4</td>\n",
       "      <td>32</td>\n",
       "      <td>1130.0</td>\n",
       "      <td>18.0</td>\n",
       "      <td>MTN</td>\n",
       "      <td>Airtime</td>\n",
       "      <td>Telco</td>\n",
       "    </tr>\n",
       "    <tr>\n",
       "      <th>2634</th>\n",
       "      <td>49</td>\n",
       "      <td>1.0</td>\n",
       "      <td>100</td>\n",
       "      <td>1</td>\n",
       "      <td>352</td>\n",
       "      <td>0.0</td>\n",
       "      <td>0.0</td>\n",
       "      <td>MTN</td>\n",
       "      <td>Airtime</td>\n",
       "      <td>Telco</td>\n",
       "    </tr>\n",
       "  </tbody>\n",
       "</table>\n",
       "<p>2276 rows × 10 columns</p>\n",
       "</div>"
      ],
      "text/plain": [
       "      user_id  Channel  TotalTransactionAmount  Tx_Count  DaysSinceLastTrans  \\\n",
       "1        1287      1.0                 1635552       131                  30   \n",
       "3        1119      2.0                   12200        13                  30   \n",
       "5        1119      1.0                   53400       106                  30   \n",
       "7         919      1.0                   75100       319                  30   \n",
       "8         919      1.0                   97350       265                  30   \n",
       "...       ...      ...                     ...       ...                 ...   \n",
       "2617     2674      2.0                     850         3                  36   \n",
       "2618     2674      1.0                     200         1                  42   \n",
       "2623     2630      1.0                     100         1                  30   \n",
       "2630     2421      1.0                    1400         4                  32   \n",
       "2634       49      1.0                     100         1                 352   \n",
       "\n",
       "      reseller_id  superdealer_id Product_ServiceProvider Product_Type  \\\n",
       "1             0.0            18.0                     MTN      Airtime   \n",
       "3             0.0           447.0                  Airtel         Data   \n",
       "5             0.0           447.0                     MTN      Airtime   \n",
       "7             0.0           447.0                     Glo      Airtime   \n",
       "8             0.0           447.0                     MTN      Airtime   \n",
       "...           ...             ...                     ...          ...   \n",
       "2617       2557.0           501.0                  Airtel         Data   \n",
       "2618       2557.0           501.0                     Glo      Airtime   \n",
       "2623          0.0           501.0                     Glo      Airtime   \n",
       "2630       1130.0            18.0                     MTN      Airtime   \n",
       "2634          0.0             0.0                     MTN      Airtime   \n",
       "\n",
       "     Product_Category  \n",
       "1               Telco  \n",
       "3               Telco  \n",
       "5               Telco  \n",
       "7               Telco  \n",
       "8               Telco  \n",
       "...               ...  \n",
       "2617            Telco  \n",
       "2618            Telco  \n",
       "2623            Telco  \n",
       "2630            Telco  \n",
       "2634            Telco  \n",
       "\n",
       "[2276 rows x 10 columns]"
      ]
     },
     "execution_count": 57,
     "metadata": {},
     "output_type": "execute_result"
    }
   ],
   "source": [
    "telecom = pickle.load(open('serialized files/telecom.pkl', 'rb'))\n",
    "telecom"
   ]
  },
  {
   "cell_type": "markdown",
   "id": "0a868a55",
   "metadata": {
    "id": "0a868a55"
   },
   "source": [
    "# Preprocessing"
   ]
  },
  {
   "cell_type": "code",
   "execution_count": 58,
   "id": "0d53de3f",
   "metadata": {
    "colab": {
     "base_uri": "https://localhost:8080/",
     "height": 423
    },
    "id": "0d53de3f",
    "outputId": "9ef4f4f8-77cd-413e-9afb-8a67e651770c"
   },
   "outputs": [
    {
     "data": {
      "text/html": [
       "<div>\n",
       "<style scoped>\n",
       "    .dataframe tbody tr th:only-of-type {\n",
       "        vertical-align: middle;\n",
       "    }\n",
       "\n",
       "    .dataframe tbody tr th {\n",
       "        vertical-align: top;\n",
       "    }\n",
       "\n",
       "    .dataframe thead th {\n",
       "        text-align: right;\n",
       "    }\n",
       "</style>\n",
       "<table border=\"1\" class=\"dataframe\">\n",
       "  <thead>\n",
       "    <tr style=\"text-align: right;\">\n",
       "      <th></th>\n",
       "      <th>user_id</th>\n",
       "      <th>TotalTransactionAmount</th>\n",
       "      <th>Tx_Count</th>\n",
       "      <th>DaysSinceLastTrans</th>\n",
       "    </tr>\n",
       "  </thead>\n",
       "  <tbody>\n",
       "    <tr>\n",
       "      <th>1</th>\n",
       "      <td>1287</td>\n",
       "      <td>1635552</td>\n",
       "      <td>131</td>\n",
       "      <td>30</td>\n",
       "    </tr>\n",
       "    <tr>\n",
       "      <th>3</th>\n",
       "      <td>1119</td>\n",
       "      <td>12200</td>\n",
       "      <td>13</td>\n",
       "      <td>30</td>\n",
       "    </tr>\n",
       "    <tr>\n",
       "      <th>5</th>\n",
       "      <td>1119</td>\n",
       "      <td>53400</td>\n",
       "      <td>106</td>\n",
       "      <td>30</td>\n",
       "    </tr>\n",
       "    <tr>\n",
       "      <th>7</th>\n",
       "      <td>919</td>\n",
       "      <td>75100</td>\n",
       "      <td>319</td>\n",
       "      <td>30</td>\n",
       "    </tr>\n",
       "    <tr>\n",
       "      <th>8</th>\n",
       "      <td>919</td>\n",
       "      <td>97350</td>\n",
       "      <td>265</td>\n",
       "      <td>30</td>\n",
       "    </tr>\n",
       "    <tr>\n",
       "      <th>...</th>\n",
       "      <td>...</td>\n",
       "      <td>...</td>\n",
       "      <td>...</td>\n",
       "      <td>...</td>\n",
       "    </tr>\n",
       "    <tr>\n",
       "      <th>2617</th>\n",
       "      <td>2674</td>\n",
       "      <td>850</td>\n",
       "      <td>3</td>\n",
       "      <td>36</td>\n",
       "    </tr>\n",
       "    <tr>\n",
       "      <th>2618</th>\n",
       "      <td>2674</td>\n",
       "      <td>200</td>\n",
       "      <td>1</td>\n",
       "      <td>42</td>\n",
       "    </tr>\n",
       "    <tr>\n",
       "      <th>2623</th>\n",
       "      <td>2630</td>\n",
       "      <td>100</td>\n",
       "      <td>1</td>\n",
       "      <td>30</td>\n",
       "    </tr>\n",
       "    <tr>\n",
       "      <th>2630</th>\n",
       "      <td>2421</td>\n",
       "      <td>1400</td>\n",
       "      <td>4</td>\n",
       "      <td>32</td>\n",
       "    </tr>\n",
       "    <tr>\n",
       "      <th>2634</th>\n",
       "      <td>49</td>\n",
       "      <td>100</td>\n",
       "      <td>1</td>\n",
       "      <td>352</td>\n",
       "    </tr>\n",
       "  </tbody>\n",
       "</table>\n",
       "<p>2276 rows × 4 columns</p>\n",
       "</div>"
      ],
      "text/plain": [
       "      user_id  TotalTransactionAmount  Tx_Count  DaysSinceLastTrans\n",
       "1        1287                 1635552       131                  30\n",
       "3        1119                   12200        13                  30\n",
       "5        1119                   53400       106                  30\n",
       "7         919                   75100       319                  30\n",
       "8         919                   97350       265                  30\n",
       "...       ...                     ...       ...                 ...\n",
       "2617     2674                     850         3                  36\n",
       "2618     2674                     200         1                  42\n",
       "2623     2630                     100         1                  30\n",
       "2630     2421                    1400         4                  32\n",
       "2634       49                     100         1                 352\n",
       "\n",
       "[2276 rows x 4 columns]"
      ]
     },
     "execution_count": 58,
     "metadata": {},
     "output_type": "execute_result"
    }
   ],
   "source": [
    "telecom = telecom[['user_id', 'TotalTransactionAmount', 'Tx_Count', 'DaysSinceLastTrans']]\n",
    "telecom"
   ]
  },
  {
   "cell_type": "code",
   "execution_count": 59,
   "id": "db06e082",
   "metadata": {
    "colab": {
     "base_uri": "https://localhost:8080/",
     "height": 300
    },
    "id": "db06e082",
    "outputId": "0c6fc4ab-9120-4578-fe01-4569377b536b"
   },
   "outputs": [
    {
     "data": {
      "text/html": [
       "<div>\n",
       "<style scoped>\n",
       "    .dataframe tbody tr th:only-of-type {\n",
       "        vertical-align: middle;\n",
       "    }\n",
       "\n",
       "    .dataframe tbody tr th {\n",
       "        vertical-align: top;\n",
       "    }\n",
       "\n",
       "    .dataframe thead th {\n",
       "        text-align: right;\n",
       "    }\n",
       "</style>\n",
       "<table border=\"1\" class=\"dataframe\">\n",
       "  <thead>\n",
       "    <tr style=\"text-align: right;\">\n",
       "      <th></th>\n",
       "      <th>user_id</th>\n",
       "      <th>TotalTransactionAmount</th>\n",
       "      <th>Tx_Count</th>\n",
       "      <th>DaysSinceLastTrans</th>\n",
       "    </tr>\n",
       "  </thead>\n",
       "  <tbody>\n",
       "    <tr>\n",
       "      <th>count</th>\n",
       "      <td>2276.000000</td>\n",
       "      <td>2.276000e+03</td>\n",
       "      <td>2276.000000</td>\n",
       "      <td>2276.000000</td>\n",
       "    </tr>\n",
       "    <tr>\n",
       "      <th>mean</th>\n",
       "      <td>1308.309754</td>\n",
       "      <td>4.158323e+04</td>\n",
       "      <td>78.835237</td>\n",
       "      <td>110.127417</td>\n",
       "    </tr>\n",
       "    <tr>\n",
       "      <th>std</th>\n",
       "      <td>646.597187</td>\n",
       "      <td>5.324434e+05</td>\n",
       "      <td>1204.331862</td>\n",
       "      <td>66.906098</td>\n",
       "    </tr>\n",
       "    <tr>\n",
       "      <th>min</th>\n",
       "      <td>3.000000</td>\n",
       "      <td>1.000000e+00</td>\n",
       "      <td>1.000000</td>\n",
       "      <td>30.000000</td>\n",
       "    </tr>\n",
       "    <tr>\n",
       "      <th>25%</th>\n",
       "      <td>907.000000</td>\n",
       "      <td>2.000000e+02</td>\n",
       "      <td>1.000000</td>\n",
       "      <td>54.000000</td>\n",
       "    </tr>\n",
       "    <tr>\n",
       "      <th>50%</th>\n",
       "      <td>1176.000000</td>\n",
       "      <td>1.000000e+03</td>\n",
       "      <td>3.000000</td>\n",
       "      <td>103.000000</td>\n",
       "    </tr>\n",
       "    <tr>\n",
       "      <th>75%</th>\n",
       "      <td>1640.000000</td>\n",
       "      <td>3.757500e+03</td>\n",
       "      <td>8.000000</td>\n",
       "      <td>137.000000</td>\n",
       "    </tr>\n",
       "    <tr>\n",
       "      <th>max</th>\n",
       "      <td>2725.000000</td>\n",
       "      <td>2.086921e+07</td>\n",
       "      <td>46531.000000</td>\n",
       "      <td>605.000000</td>\n",
       "    </tr>\n",
       "  </tbody>\n",
       "</table>\n",
       "</div>"
      ],
      "text/plain": [
       "           user_id  TotalTransactionAmount      Tx_Count  DaysSinceLastTrans\n",
       "count  2276.000000            2.276000e+03   2276.000000         2276.000000\n",
       "mean   1308.309754            4.158323e+04     78.835237          110.127417\n",
       "std     646.597187            5.324434e+05   1204.331862           66.906098\n",
       "min       3.000000            1.000000e+00      1.000000           30.000000\n",
       "25%     907.000000            2.000000e+02      1.000000           54.000000\n",
       "50%    1176.000000            1.000000e+03      3.000000          103.000000\n",
       "75%    1640.000000            3.757500e+03      8.000000          137.000000\n",
       "max    2725.000000            2.086921e+07  46531.000000          605.000000"
      ]
     },
     "execution_count": 59,
     "metadata": {},
     "output_type": "execute_result"
    }
   ],
   "source": [
    "telecom.describe()"
   ]
  },
  {
   "cell_type": "code",
   "execution_count": 60,
   "id": "8481e820",
   "metadata": {
    "colab": {
     "base_uri": "https://localhost:8080/",
     "height": 455
    },
    "id": "8481e820",
    "outputId": "9d08d22b-c129-4e4a-9004-d95ec708eadf",
    "scrolled": false
   },
   "outputs": [
    {
     "data": {
      "text/html": [
       "<div>\n",
       "<style scoped>\n",
       "    .dataframe tbody tr th:only-of-type {\n",
       "        vertical-align: middle;\n",
       "    }\n",
       "\n",
       "    .dataframe tbody tr th {\n",
       "        vertical-align: top;\n",
       "    }\n",
       "\n",
       "    .dataframe thead th {\n",
       "        text-align: right;\n",
       "    }\n",
       "</style>\n",
       "<table border=\"1\" class=\"dataframe\">\n",
       "  <thead>\n",
       "    <tr style=\"text-align: right;\">\n",
       "      <th></th>\n",
       "      <th>Amount</th>\n",
       "      <th>Freq</th>\n",
       "      <th>Re</th>\n",
       "    </tr>\n",
       "    <tr>\n",
       "      <th>user_id</th>\n",
       "      <th></th>\n",
       "      <th></th>\n",
       "      <th></th>\n",
       "    </tr>\n",
       "  </thead>\n",
       "  <tbody>\n",
       "    <tr>\n",
       "      <th>3</th>\n",
       "      <td>100</td>\n",
       "      <td>1</td>\n",
       "      <td>351</td>\n",
       "    </tr>\n",
       "    <tr>\n",
       "      <th>14</th>\n",
       "      <td>51</td>\n",
       "      <td>1</td>\n",
       "      <td>231</td>\n",
       "    </tr>\n",
       "    <tr>\n",
       "      <th>18</th>\n",
       "      <td>9708</td>\n",
       "      <td>9</td>\n",
       "      <td>1941</td>\n",
       "    </tr>\n",
       "    <tr>\n",
       "      <th>19</th>\n",
       "      <td>100</td>\n",
       "      <td>1</td>\n",
       "      <td>605</td>\n",
       "    </tr>\n",
       "    <tr>\n",
       "      <th>32</th>\n",
       "      <td>7800</td>\n",
       "      <td>2</td>\n",
       "      <td>274</td>\n",
       "    </tr>\n",
       "    <tr>\n",
       "      <th>...</th>\n",
       "      <td>...</td>\n",
       "      <td>...</td>\n",
       "      <td>...</td>\n",
       "    </tr>\n",
       "    <tr>\n",
       "      <th>2682</th>\n",
       "      <td>10050</td>\n",
       "      <td>5</td>\n",
       "      <td>151</td>\n",
       "    </tr>\n",
       "    <tr>\n",
       "      <th>2684</th>\n",
       "      <td>1200</td>\n",
       "      <td>2</td>\n",
       "      <td>79</td>\n",
       "    </tr>\n",
       "    <tr>\n",
       "      <th>2690</th>\n",
       "      <td>1400</td>\n",
       "      <td>1</td>\n",
       "      <td>32</td>\n",
       "    </tr>\n",
       "    <tr>\n",
       "      <th>2694</th>\n",
       "      <td>300</td>\n",
       "      <td>1</td>\n",
       "      <td>35</td>\n",
       "    </tr>\n",
       "    <tr>\n",
       "      <th>2725</th>\n",
       "      <td>200</td>\n",
       "      <td>1</td>\n",
       "      <td>30</td>\n",
       "    </tr>\n",
       "  </tbody>\n",
       "</table>\n",
       "<p>657 rows × 3 columns</p>\n",
       "</div>"
      ],
      "text/plain": [
       "         Amount  Freq    Re\n",
       "user_id                    \n",
       "3           100     1   351\n",
       "14           51     1   231\n",
       "18         9708     9  1941\n",
       "19          100     1   605\n",
       "32         7800     2   274\n",
       "...         ...   ...   ...\n",
       "2682      10050     5   151\n",
       "2684       1200     2    79\n",
       "2690       1400     1    32\n",
       "2694        300     1    35\n",
       "2725        200     1    30\n",
       "\n",
       "[657 rows x 3 columns]"
      ]
     },
     "execution_count": 60,
     "metadata": {},
     "output_type": "execute_result"
    }
   ],
   "source": [
    "tele_customers = telecom.groupby(['user_id']).agg({\n",
    "    'TotalTransactionAmount': 'sum',\n",
    "    'Tx_Count': 'count',\n",
    "    'DaysSinceLastTrans' : 'sum'\n",
    "})\n",
    "\n",
    "tele_customers.rename(columns={'TotalTransactionAmount': 'Amount',\n",
    "                                 'Tx_Count': 'Freq',\n",
    "                                'DaysSinceLastTrans': 'Re'}, inplace=True)\n",
    "tele_customers"
   ]
  },
  {
   "cell_type": "code",
   "execution_count": 61,
   "id": "cb56705e",
   "metadata": {
    "colab": {
     "base_uri": "https://localhost:8080/"
    },
    "id": "cb56705e",
    "outputId": "f704efb3-0118-4891-a7cc-a21b81378a27"
   },
   "outputs": [
    {
     "name": "stdout",
     "output_type": "stream",
     "text": [
      "2.9767677658865397\n",
      "1.8685113100577722\n",
      "21.762190634919907\n"
     ]
    }
   ],
   "source": [
    "print(tele_customers.Re.skew())\n",
    "print(tele_customers.Freq.skew())\n",
    "print(tele_customers.Amount.skew())"
   ]
  },
  {
   "cell_type": "markdown",
   "id": "bdf0c94d",
   "metadata": {
    "id": "bdf0c94d"
   },
   "source": [
    "## Converting Data to Gaussian Distribution"
   ]
  },
  {
   "cell_type": "markdown",
   "id": "9c2dfab3",
   "metadata": {
    "id": "9c2dfab3"
   },
   "source": [
    "### Visualization"
   ]
  },
  {
   "cell_type": "code",
   "execution_count": 62,
   "id": "41722c7d",
   "metadata": {
    "colab": {
     "base_uri": "https://localhost:8080/",
     "height": 512
    },
    "id": "41722c7d",
    "outputId": "881aa3ef-233f-49ad-e9b5-41b899ce7568",
    "scrolled": true
   },
   "outputs": [
    {
     "data": {
      "image/png": "[encoded data removed]",
      "text/plain": [
       "<Figure size 864x504 with 4 Axes>"
      ]
     },
     "metadata": {
      "needs_background": "light"
     },
     "output_type": "display_data"
    }
   ],
   "source": [
    "import warnings\n",
    "warnings.filterwarnings('ignore')\n",
    "\n",
    "fig, ax = plt.subplots(2, 2, figsize=(12, 7))\n",
    "\n",
    "fig = sns.distplot(tele_customers.Re, color='b', ax=ax[0, 0])\n",
    "fig = sns.distplot(tele_customers.Amount, color='g', ax=ax[0, 1])\n",
    "fig = sns.distplot(tele_customers.Freq, color='y', ax=ax[1, 0])\n",
    "ax[0, 0].set_title('Recency')\n",
    "ax[0, 1].set_title('Income')\n",
    "ax[1, 0].set_title('Frequency')\n",
    "\n",
    "plt.tight_layout()\n",
    "plt.show()"
   ]
  },
  {
   "cell_type": "markdown",
   "id": "5bf8b1fa",
   "metadata": {
    "id": "5bf8b1fa"
   },
   "source": [
    "### Log Transformation"
   ]
  },
  {
   "cell_type": "code",
   "execution_count": 63,
   "id": "5c7a6b9e",
   "metadata": {
    "colab": {
     "base_uri": "https://localhost:8080/"
    },
    "id": "5c7a6b9e",
    "outputId": "1fc12c54-5c18-416e-b0ae-00e1fa1c2721"
   },
   "outputs": [
    {
     "name": "stdout",
     "output_type": "stream",
     "text": [
      "0.5155487525286497\n",
      "0.551456732691974\n",
      "0.5188958118575421\n"
     ]
    }
   ],
   "source": [
    "log_trans = pd.DataFrame()\n",
    "log_trans['Amount'] = np.log(tele_customers['Amount'])\n",
    "log_trans['Freq'] = np.log(tele_customers['Freq'])\n",
    "log_trans['Re'] = np.log(tele_customers['Re'])\n",
    "\n",
    "print(log_trans.Re.skew())\n",
    "print(log_trans.Freq.skew())\n",
    "print(log_trans.Amount.skew())"
   ]
  },
  {
   "cell_type": "markdown",
   "id": "xrJTMvwcWF2D",
   "metadata": {
    "id": "xrJTMvwcWF2D"
   },
   "source": [
    "#### After-Log-Transformation"
   ]
  },
  {
   "cell_type": "code",
   "execution_count": 64,
   "id": "XQIqBJ6SWIza",
   "metadata": {
    "colab": {
     "base_uri": "https://localhost:8080/",
     "height": 512
    },
    "id": "XQIqBJ6SWIza",
    "outputId": "0dedf2b2-a0fe-4119-922a-0cafb0c397dd"
   },
   "outputs": [
    {
     "data": {
      "image/png": "[encoded data removed]",
      "text/plain": [
       "<Figure size 864x504 with 4 Axes>"
      ]
     },
     "metadata": {
      "needs_background": "light"
     },
     "output_type": "display_data"
    }
   ],
   "source": [
    "fig, ax = plt.subplots(2, 2, figsize=(12, 7))\n",
    "\n",
    "fig = sns.distplot(log_trans.Re, color='b', ax=ax[0, 0])\n",
    "fig = sns.distplot(log_trans.Amount, color='g', ax=ax[0, 1])\n",
    "fig = sns.distplot(log_trans.Freq, color='y', ax=ax[1, 0])\n",
    "ax[0, 0].set_title('Recency')\n",
    "ax[0, 1].set_title('Income')\n",
    "ax[1, 0].set_title('Frequency')\n",
    "\n",
    "plt.tight_layout()\n",
    "plt.show()"
   ]
  },
  {
   "cell_type": "markdown",
   "id": "21f41153",
   "metadata": {
    "id": "21f41153"
   },
   "source": [
    "### BoxCox Transfromation"
   ]
  },
  {
   "cell_type": "code",
   "execution_count": 65,
   "id": "fafb9b6f",
   "metadata": {
    "colab": {
     "base_uri": "https://localhost:8080/"
    },
    "id": "fafb9b6f",
    "outputId": "87be6f71-edf7-4018-c5d9-9a30d10be86d",
    "scrolled": false
   },
   "outputs": [
    {
     "name": "stdout",
     "output_type": "stream",
     "text": [
      "0.0536648425174892\n",
      "0.202158774048701\n",
      "0.04576135214978946\n"
     ]
    }
   ],
   "source": [
    "boxcox_trans = pd.DataFrame()\n",
    "boxcox_trans['Amount'] = stats.boxcox(tele_customers['Amount'])[0]\n",
    "boxcox_trans['Freq'] = stats.boxcox(tele_customers['Freq'])[0]\n",
    "boxcox_trans['Re'] = stats.boxcox(tele_customers['Re'])[0]\n",
    "\n",
    "print(boxcox_trans.Re.skew())\n",
    "print(boxcox_trans.Freq.skew())\n",
    "print(boxcox_trans.Amount.skew())"
   ]
  },
  {
   "cell_type": "markdown",
   "id": "98cb751e",
   "metadata": {
    "id": "98cb751e"
   },
   "source": [
    "#### After-Boxcox-Transformation"
   ]
  },
  {
   "cell_type": "code",
   "execution_count": 66,
   "id": "727e1996",
   "metadata": {
    "colab": {
     "base_uri": "https://localhost:8080/",
     "height": 512
    },
    "id": "727e1996",
    "outputId": "164c2c9f-5b4a-4b03-a803-128d2c0eae3f",
    "scrolled": false
   },
   "outputs": [
    {
     "data": {
      "image/png": "[encoded data removed]",
      "text/plain": [
       "<Figure size 864x504 with 4 Axes>"
      ]
     },
     "metadata": {
      "needs_background": "light"
     },
     "output_type": "display_data"
    }
   ],
   "source": [
    "fig, ax = plt.subplots(2, 2, figsize=(12, 7))\n",
    "\n",
    "fig = sns.distplot(boxcox_trans.Re, color='b', ax=ax[0, 0])\n",
    "fig = sns.distplot(boxcox_trans.Amount, color='g', ax=ax[0, 1])\n",
    "fig = sns.distplot(boxcox_trans.Freq, color='y', ax=ax[1, 0])\n",
    "ax[0, 0].set_title('Recency')\n",
    "ax[0, 1].set_title('Income')\n",
    "ax[1, 0].set_title('Frequency')\n",
    "\n",
    "plt.tight_layout()\n",
    "plt.show()"
   ]
  },
  {
   "cell_type": "markdown",
   "id": "hrOEUs3k-W8L",
   "metadata": {
    "id": "hrOEUs3k-W8L"
   },
   "source": [
    "### Cubic Root Transformation"
   ]
  },
  {
   "cell_type": "code",
   "execution_count": 67,
   "id": "MkH7FaJ0-YmX",
   "metadata": {
    "colab": {
     "base_uri": "https://localhost:8080/"
    },
    "id": "MkH7FaJ0-YmX",
    "outputId": "64a438db-ad5a-48b5-96ef-75f354e105ed"
   },
   "outputs": [
    {
     "name": "stdout",
     "output_type": "stream",
     "text": [
      "1.1584305637320402\n",
      "0.9046230074429503\n",
      "7.2456875794517765\n"
     ]
    }
   ],
   "source": [
    "square_trans = pd.DataFrame()\n",
    "square_trans['Amount'] = np.cbrt(tele_customers['Amount'])\n",
    "square_trans['Freq'] = np.cbrt(tele_customers['Freq'])\n",
    "square_trans['Re'] = np.cbrt(tele_customers['Re'])\n",
    "\n",
    "print(square_trans.Re.skew())\n",
    "print(square_trans.Freq.skew())\n",
    "print(square_trans.Amount.skew())"
   ]
  },
  {
   "cell_type": "markdown",
   "id": "PfKPTOdr-nGq",
   "metadata": {
    "id": "PfKPTOdr-nGq"
   },
   "source": [
    "#### After-Cubic-Root-Transformation"
   ]
  },
  {
   "cell_type": "code",
   "execution_count": 68,
   "id": "r0mz81wz-web",
   "metadata": {
    "colab": {
     "base_uri": "https://localhost:8080/",
     "height": 512
    },
    "id": "r0mz81wz-web",
    "outputId": "a0b0d68b-ac6e-4a6b-abcc-93a2d9a95ad8"
   },
   "outputs": [
    {
     "data": {
      "image/png": "[encoded data removed]",
      "text/plain": [
       "<Figure size 864x504 with 4 Axes>"
      ]
     },
     "metadata": {
      "needs_background": "light"
     },
     "output_type": "display_data"
    }
   ],
   "source": [
    "fig, ax = plt.subplots(2, 2, figsize=(12, 7))\n",
    "\n",
    "fig = sns.distplot(square_trans.Re, color='b', ax=ax[0, 0])\n",
    "fig = sns.distplot(square_trans.Amount, color='g', ax=ax[0, 1])\n",
    "fig = sns.distplot(square_trans.Freq, color='y', ax=ax[1, 0])\n",
    "ax[0, 0].set_title('Recency')\n",
    "ax[0, 1].set_title('Income')\n",
    "ax[1, 0].set_title('Frequency')\n",
    "\n",
    "plt.tight_layout()\n",
    "plt.show()"
   ]
  },
  {
   "cell_type": "markdown",
   "id": "8yYXavsbJiS-",
   "metadata": {
    "id": "8yYXavsbJiS-"
   },
   "source": [
    "<b>BOX COX Transfroms the Data Better</b>"
   ]
  },
  {
   "cell_type": "markdown",
   "id": "8b0c2d1c",
   "metadata": {
    "id": "8b0c2d1c"
   },
   "source": [
    "### Normalization"
   ]
  },
  {
   "cell_type": "code",
   "execution_count": 69,
   "id": "8dc3db19",
   "metadata": {
    "id": "8dc3db19"
   },
   "outputs": [],
   "source": [
    "scale = StandardScaler()\n",
    "scale.fit(boxcox_trans)\n",
    "telecom_normalized = scale.transform(boxcox_trans)"
   ]
  },
  {
   "cell_type": "code",
   "execution_count": 70,
   "id": "5065275c",
   "metadata": {
    "colab": {
     "base_uri": "https://localhost:8080/",
     "height": 547
    },
    "id": "5065275c",
    "outputId": "a1dab925-510f-408b-de62-357a39f12052"
   },
   "outputs": [
    {
     "data": {
      "image/png": "[encoded data removed]",
      "text/plain": [
       "<Figure size 864x504 with 4 Axes>"
      ]
     },
     "metadata": {
      "needs_background": "light"
     },
     "output_type": "display_data"
    },
    {
     "name": "stdout",
     "output_type": "stream",
     "text": [
      "[-0.  0. -0.]\n",
      "[1. 1. 1.]\n"
     ]
    }
   ],
   "source": [
    "fig, ax = plt.subplots(2, 2, figsize=(12, 7))\n",
    "\n",
    "fig = sns.distplot(telecom_normalized[0], color='b', ax=ax[0, 0])\n",
    "fig = sns.distplot(telecom_normalized[1], color='g', ax=ax[0, 1])\n",
    "fig = sns.distplot(telecom_normalized[2], color='y', ax=ax[1, 0])\n",
    "ax[0, 0].set_title('Recency')\n",
    "ax[0, 1].set_title('Income')\n",
    "ax[1, 0].set_title('Frequency')\n",
    "\n",
    "plt.tight_layout()\n",
    "plt.show()\n",
    "\n",
    "print(telecom_normalized.mean(axis = 0).round(2))\n",
    "print(telecom_normalized.std(axis = 0).round(2))"
   ]
  },
  {
   "cell_type": "markdown",
   "id": "28284e33",
   "metadata": {
    "id": "28284e33"
   },
   "source": [
    "# Clustering"
   ]
  },
  {
   "cell_type": "markdown",
   "id": "1299e49d",
   "metadata": {
    "id": "1299e49d"
   },
   "source": [
    "## Hyperparameter Tuning using the Elbow Method"
   ]
  },
  {
   "cell_type": "code",
   "execution_count": 71,
   "id": "9180a890",
   "metadata": {
    "colab": {
     "base_uri": "https://localhost:8080/",
     "height": 295
    },
    "id": "9180a890",
    "outputId": "e5991293-a31a-487c-b449-195bf2459cc9"
   },
   "outputs": [
    {
     "data": {
      "image/png": "[encoded data removed]",
      "text/plain": [
       "<Figure size 432x288 with 1 Axes>"
      ]
     },
     "metadata": {
      "needs_background": "light"
     },
     "output_type": "display_data"
    }
   ],
   "source": [
    "sse = {}\n",
    "\n",
    "for k in range(1, 11):\n",
    "    kmeans = KMeans(n_clusters=k, random_state=42)\n",
    "    kmeans.fit(telecom_normalized)\n",
    "    sse[k] = kmeans.inertia_\n",
    "plt.title('The Elbow Method')\n",
    "plt.xlabel('Number of Clusters')\n",
    "plt.ylabel('Sum of Squared Distance')\n",
    "sns.pointplot(x=list(sse.keys()), y=list(sse.values()))\n",
    "plt.show()"
   ]
  },
  {
   "cell_type": "code",
   "execution_count": 72,
   "id": "94cbc92a",
   "metadata": {
    "colab": {
     "base_uri": "https://localhost:8080/"
    },
    "id": "94cbc92a",
    "outputId": "cf2b73a5-8e23-45ae-f075-dedfefda3b47"
   },
   "outputs": [
    {
     "data": {
      "text/plain": [
       "array([1, 1, 0, 1, 2, 0, 0, 2, 1, 1, 0, 0, 0, 0, 0, 0, 1, 0, 2, 0, 0, 0,\n",
       "       0, 1, 0, 1, 2, 0, 0, 1, 0, 0, 2, 0, 0, 0, 0, 2, 0, 1, 0, 0, 1, 2,\n",
       "       0, 0, 2, 0, 0, 0, 0, 0, 0, 2, 2, 0, 0, 2, 1, 1, 1, 2, 0, 0, 0, 0,\n",
       "       2, 0, 0, 0, 0, 2, 2, 0, 1, 1, 2, 0, 0, 0, 0, 0, 0, 0, 0, 2, 2, 1,\n",
       "       0, 0, 0, 0, 0, 0, 0, 0, 0, 2, 2, 0, 0, 0, 0, 2, 0, 0, 0, 0, 0, 0,\n",
       "       0, 0, 0, 2, 1, 0, 2, 2, 0, 0, 0, 1, 0, 0, 0, 0, 0, 0, 1, 0, 2, 2,\n",
       "       0, 2, 2, 0, 0, 0, 0, 0, 0, 0, 0, 0, 2, 2, 0, 2, 1, 0, 0, 0, 0, 2,\n",
       "       0, 2, 0, 2, 0, 2, 0, 0, 1, 2, 1, 1, 1, 0, 2, 2, 0, 1, 2, 2, 0, 2,\n",
       "       0, 0, 1, 0, 1, 1, 0, 1, 0, 2, 2, 1, 0, 1, 0, 0, 2, 2, 0, 0, 2, 2,\n",
       "       0, 1, 0, 0, 2, 0, 2, 1, 1, 0, 1, 0, 0, 0, 0, 0, 2, 1, 1, 1, 2, 1,\n",
       "       2, 1, 0, 2, 2, 2, 2, 1, 1, 1, 0, 0, 0, 0, 0, 1, 0, 0, 1, 0, 0, 0,\n",
       "       1, 0, 1, 1, 1, 2, 1, 2, 1, 1, 1, 1, 1, 1, 1, 1, 1, 1, 2, 1, 0, 2,\n",
       "       2, 1, 2, 1, 0, 1, 2, 2, 1, 0, 2, 2, 1, 2, 2, 0, 1, 0, 1, 2, 1, 1,\n",
       "       2, 2, 1, 1, 1, 2, 2, 1, 1, 2, 2, 1, 2, 1, 0, 1, 0, 1, 2, 1, 1, 2,\n",
       "       1, 0, 1, 1, 1, 2, 2, 0, 2, 0, 2, 2, 0, 1, 1, 0, 1, 2, 1, 2, 1, 1,\n",
       "       0, 0, 1, 1, 2, 1, 1, 0, 1, 1, 1, 1, 2, 2, 1, 1, 0, 0, 0, 1, 1, 2,\n",
       "       1, 2, 1, 2, 1, 2, 1, 0, 2, 1, 0, 1, 0, 2, 1, 1, 2, 2, 1, 2, 2, 2,\n",
       "       0, 2, 1, 2, 2, 1, 0, 2, 0, 1, 1, 0, 2, 0, 2, 2, 0, 1, 1, 2, 0, 2,\n",
       "       1, 1, 1, 1, 1, 2, 2, 1, 1, 1, 1, 1, 1, 2, 1, 1, 2, 1, 2, 2, 1, 1,\n",
       "       1, 1, 1, 2, 1, 1, 2, 2, 0, 2, 2, 2, 1, 0, 1, 1, 1, 0, 1, 1, 2, 1,\n",
       "       1, 1, 1, 2, 1, 1, 1, 1, 1, 1, 1, 1, 2, 2, 2, 1, 1, 2, 2, 1, 1, 1,\n",
       "       0, 1, 1, 1, 2, 1, 1, 1, 2, 1, 2, 2, 1, 1, 0, 2, 1, 2, 1, 2, 1, 1,\n",
       "       1, 0, 1, 2, 1, 1, 1, 1, 2, 1, 1, 1, 1, 1, 2, 2, 0, 1, 2, 1, 1, 2,\n",
       "       0, 1, 1, 1, 1, 1, 1, 1, 0, 1, 1, 1, 1, 1, 2, 1, 1, 2, 1, 1, 1, 0,\n",
       "       2, 1, 1, 2, 1, 0, 0, 2, 0, 1, 1, 2, 1, 1, 2, 1, 1, 2, 1, 1, 0, 1,\n",
       "       1, 1, 1, 1, 1, 0, 0, 2, 2, 1, 1, 2, 1, 2, 2, 1, 1, 1, 1, 1, 1, 1,\n",
       "       2, 1, 1, 1, 1, 1, 0, 2, 2, 2, 1, 1, 2, 2, 1, 0, 1, 1, 1, 1, 1, 2,\n",
       "       2, 0, 1, 2, 1, 1, 1, 1, 2, 1, 1, 1, 1, 1, 2, 0, 2, 1, 1, 1, 2, 2,\n",
       "       0, 2, 1, 2, 2, 1, 1, 1, 2, 2, 1, 2, 1, 2, 1, 1, 2, 1, 1, 2, 2, 2,\n",
       "       2, 1, 0, 2, 2, 2, 1, 1, 0, 2, 1, 2, 2, 2, 2, 2, 1, 1, 1])"
      ]
     },
     "execution_count": 72,
     "metadata": {},
     "output_type": "execute_result"
    }
   ],
   "source": [
    "model = KMeans(n_clusters=3, random_state=42)\n",
    "model.fit(telecom_normalized)\n",
    "model.labels_"
   ]
  },
  {
   "cell_type": "markdown",
   "id": "53fd1cb3",
   "metadata": {
    "id": "53fd1cb3"
   },
   "source": [
    "## Matching labels with each customer"
   ]
  },
  {
   "cell_type": "code",
   "execution_count": 73,
   "id": "c21b7ed8",
   "metadata": {
    "colab": {
     "base_uri": "https://localhost:8080/",
     "height": 455
    },
    "id": "c21b7ed8",
    "outputId": "348ec42b-4e70-4848-b14c-eb6d3df5d457",
    "scrolled": true
   },
   "outputs": [
    {
     "data": {
      "text/html": [
       "<div>\n",
       "<style scoped>\n",
       "    .dataframe tbody tr th:only-of-type {\n",
       "        vertical-align: middle;\n",
       "    }\n",
       "\n",
       "    .dataframe tbody tr th {\n",
       "        vertical-align: top;\n",
       "    }\n",
       "\n",
       "    .dataframe thead th {\n",
       "        text-align: right;\n",
       "    }\n",
       "</style>\n",
       "<table border=\"1\" class=\"dataframe\">\n",
       "  <thead>\n",
       "    <tr style=\"text-align: right;\">\n",
       "      <th></th>\n",
       "      <th>Amount</th>\n",
       "      <th>Freq</th>\n",
       "      <th>Re</th>\n",
       "      <th>Cluster</th>\n",
       "    </tr>\n",
       "    <tr>\n",
       "      <th>user_id</th>\n",
       "      <th></th>\n",
       "      <th></th>\n",
       "      <th></th>\n",
       "      <th></th>\n",
       "    </tr>\n",
       "  </thead>\n",
       "  <tbody>\n",
       "    <tr>\n",
       "      <th>3</th>\n",
       "      <td>100</td>\n",
       "      <td>1</td>\n",
       "      <td>351</td>\n",
       "      <td>1</td>\n",
       "    </tr>\n",
       "    <tr>\n",
       "      <th>14</th>\n",
       "      <td>51</td>\n",
       "      <td>1</td>\n",
       "      <td>231</td>\n",
       "      <td>1</td>\n",
       "    </tr>\n",
       "    <tr>\n",
       "      <th>18</th>\n",
       "      <td>9708</td>\n",
       "      <td>9</td>\n",
       "      <td>1941</td>\n",
       "      <td>0</td>\n",
       "    </tr>\n",
       "    <tr>\n",
       "      <th>19</th>\n",
       "      <td>100</td>\n",
       "      <td>1</td>\n",
       "      <td>605</td>\n",
       "      <td>1</td>\n",
       "    </tr>\n",
       "    <tr>\n",
       "      <th>32</th>\n",
       "      <td>7800</td>\n",
       "      <td>2</td>\n",
       "      <td>274</td>\n",
       "      <td>2</td>\n",
       "    </tr>\n",
       "    <tr>\n",
       "      <th>...</th>\n",
       "      <td>...</td>\n",
       "      <td>...</td>\n",
       "      <td>...</td>\n",
       "      <td>...</td>\n",
       "    </tr>\n",
       "    <tr>\n",
       "      <th>2682</th>\n",
       "      <td>10050</td>\n",
       "      <td>5</td>\n",
       "      <td>151</td>\n",
       "      <td>2</td>\n",
       "    </tr>\n",
       "    <tr>\n",
       "      <th>2684</th>\n",
       "      <td>1200</td>\n",
       "      <td>2</td>\n",
       "      <td>79</td>\n",
       "      <td>2</td>\n",
       "    </tr>\n",
       "    <tr>\n",
       "      <th>2690</th>\n",
       "      <td>1400</td>\n",
       "      <td>1</td>\n",
       "      <td>32</td>\n",
       "      <td>1</td>\n",
       "    </tr>\n",
       "    <tr>\n",
       "      <th>2694</th>\n",
       "      <td>300</td>\n",
       "      <td>1</td>\n",
       "      <td>35</td>\n",
       "      <td>1</td>\n",
       "    </tr>\n",
       "    <tr>\n",
       "      <th>2725</th>\n",
       "      <td>200</td>\n",
       "      <td>1</td>\n",
       "      <td>30</td>\n",
       "      <td>1</td>\n",
       "    </tr>\n",
       "  </tbody>\n",
       "</table>\n",
       "<p>657 rows × 4 columns</p>\n",
       "</div>"
      ],
      "text/plain": [
       "         Amount  Freq    Re  Cluster\n",
       "user_id                             \n",
       "3           100     1   351        1\n",
       "14           51     1   231        1\n",
       "18         9708     9  1941        0\n",
       "19          100     1   605        1\n",
       "32         7800     2   274        2\n",
       "...         ...   ...   ...      ...\n",
       "2682      10050     5   151        2\n",
       "2684       1200     2    79        2\n",
       "2690       1400     1    32        1\n",
       "2694        300     1    35        1\n",
       "2725        200     1    30        1\n",
       "\n",
       "[657 rows x 4 columns]"
      ]
     },
     "execution_count": 73,
     "metadata": {},
     "output_type": "execute_result"
    }
   ],
   "source": [
    "tele_customers[\"Cluster\"] = model.labels_\n",
    "tele_customers.groupby('Cluster').agg({\n",
    "    'Re':'mean',\n",
    "    'Freq':'mean',\n",
    "    'Amount':['mean', 'count']}).round(2)\n",
    "tele_customers"
   ]
  },
  {
   "cell_type": "markdown",
   "id": "0d0a5ceb",
   "metadata": {
    "id": "0d0a5ceb"
   },
   "source": [
    "## Melting the Dataframe"
   ]
  },
  {
   "cell_type": "code",
   "execution_count": 74,
   "id": "eea1f043",
   "metadata": {
    "colab": {
     "base_uri": "https://localhost:8080/",
     "height": 423
    },
    "id": "eea1f043",
    "outputId": "0aed8679-fea7-4e00-9935-6f3490f9ead6",
    "scrolled": true
   },
   "outputs": [
    {
     "data": {
      "text/html": [
       "<div>\n",
       "<style scoped>\n",
       "    .dataframe tbody tr th:only-of-type {\n",
       "        vertical-align: middle;\n",
       "    }\n",
       "\n",
       "    .dataframe tbody tr th {\n",
       "        vertical-align: top;\n",
       "    }\n",
       "\n",
       "    .dataframe thead th {\n",
       "        text-align: right;\n",
       "    }\n",
       "</style>\n",
       "<table border=\"1\" class=\"dataframe\">\n",
       "  <thead>\n",
       "    <tr style=\"text-align: right;\">\n",
       "      <th></th>\n",
       "      <th>Cust ID</th>\n",
       "      <th>Cluster</th>\n",
       "      <th>Attribute</th>\n",
       "      <th>Value</th>\n",
       "    </tr>\n",
       "  </thead>\n",
       "  <tbody>\n",
       "    <tr>\n",
       "      <th>0</th>\n",
       "      <td>3</td>\n",
       "      <td>1</td>\n",
       "      <td>Re</td>\n",
       "      <td>-1.035397</td>\n",
       "    </tr>\n",
       "    <tr>\n",
       "      <th>1</th>\n",
       "      <td>14</td>\n",
       "      <td>1</td>\n",
       "      <td>Re</td>\n",
       "      <td>-1.371504</td>\n",
       "    </tr>\n",
       "    <tr>\n",
       "      <th>2</th>\n",
       "      <td>18</td>\n",
       "      <td>0</td>\n",
       "      <td>Re</td>\n",
       "      <td>0.827502</td>\n",
       "    </tr>\n",
       "    <tr>\n",
       "      <th>3</th>\n",
       "      <td>19</td>\n",
       "      <td>1</td>\n",
       "      <td>Re</td>\n",
       "      <td>-1.035397</td>\n",
       "    </tr>\n",
       "    <tr>\n",
       "      <th>4</th>\n",
       "      <td>32</td>\n",
       "      <td>2</td>\n",
       "      <td>Re</td>\n",
       "      <td>0.753021</td>\n",
       "    </tr>\n",
       "    <tr>\n",
       "      <th>...</th>\n",
       "      <td>...</td>\n",
       "      <td>...</td>\n",
       "      <td>...</td>\n",
       "      <td>...</td>\n",
       "    </tr>\n",
       "    <tr>\n",
       "      <th>1966</th>\n",
       "      <td>2682</td>\n",
       "      <td>2</td>\n",
       "      <td>Amount</td>\n",
       "      <td>-0.314052</td>\n",
       "    </tr>\n",
       "    <tr>\n",
       "      <th>1967</th>\n",
       "      <td>2684</td>\n",
       "      <td>2</td>\n",
       "      <td>Amount</td>\n",
       "      <td>-1.120469</td>\n",
       "    </tr>\n",
       "    <tr>\n",
       "      <th>1968</th>\n",
       "      <td>2690</td>\n",
       "      <td>1</td>\n",
       "      <td>Amount</td>\n",
       "      <td>-2.477027</td>\n",
       "    </tr>\n",
       "    <tr>\n",
       "      <th>1969</th>\n",
       "      <td>2694</td>\n",
       "      <td>1</td>\n",
       "      <td>Amount</td>\n",
       "      <td>-2.328987</td>\n",
       "    </tr>\n",
       "    <tr>\n",
       "      <th>1970</th>\n",
       "      <td>2725</td>\n",
       "      <td>1</td>\n",
       "      <td>Amount</td>\n",
       "      <td>-2.585635</td>\n",
       "    </tr>\n",
       "  </tbody>\n",
       "</table>\n",
       "<p>1971 rows × 4 columns</p>\n",
       "</div>"
      ],
      "text/plain": [
       "      Cust ID  Cluster Attribute     Value\n",
       "0           3        1        Re -1.035397\n",
       "1          14        1        Re -1.371504\n",
       "2          18        0        Re  0.827502\n",
       "3          19        1        Re -1.035397\n",
       "4          32        2        Re  0.753021\n",
       "...       ...      ...       ...       ...\n",
       "1966     2682        2    Amount -0.314052\n",
       "1967     2684        2    Amount -1.120469\n",
       "1968     2690        1    Amount -2.477027\n",
       "1969     2694        1    Amount -2.328987\n",
       "1970     2725        1    Amount -2.585635\n",
       "\n",
       "[1971 rows x 4 columns]"
      ]
     },
     "execution_count": 74,
     "metadata": {},
     "output_type": "execute_result"
    }
   ],
   "source": [
    "df_normalized = pd.DataFrame(telecom_normalized, columns=['Re', 'Freq', 'Amount'])\n",
    "df_normalized['Cust ID'] = tele_customers.index\n",
    "df_normalized['Cluster'] = model.labels_\n",
    "\n",
    "df_nor_melt = pd.melt(df_normalized.reset_index(),\n",
    "                      id_vars=['Cust ID', 'Cluster'],\n",
    "                      value_vars=['Re','Freq','Amount'],\n",
    "                      var_name='Attribute',\n",
    "                      value_name='Value')\n",
    "df_nor_melt"
   ]
  },
  {
   "cell_type": "markdown",
   "id": "0Xk6fhGYUiXZ",
   "metadata": {
    "id": "0Xk6fhGYUiXZ"
   },
   "source": [
    "### Visualization"
   ]
  },
  {
   "cell_type": "code",
   "execution_count": 75,
   "id": "da170f71",
   "metadata": {
    "colab": {
     "base_uri": "https://localhost:8080/",
     "height": 497
    },
    "id": "da170f71",
    "outputId": "65d481b5-3bd0-44f0-893a-f35e14c1ab3e"
   },
   "outputs": [
    {
     "data": {
      "image/png": "[encoded data removed]",
      "text/plain": [
       "<Figure size 1080x576 with 1 Axes>"
      ]
     },
     "metadata": {
      "needs_background": "light"
     },
     "output_type": "display_data"
    }
   ],
   "source": [
    "plt.figure(figsize=(15, 8))\n",
    "sns.lineplot('Attribute', 'Value', hue='Cluster', data=df_nor_melt)\n",
    "plt.show()"
   ]
  }
 ],
 "metadata": {
  "colab": {
   "name": "Telecommunication.ipynb",
   "provenance": [],
   "toc_visible": true
  },
  "kernelspec": {
   "display_name": "Python 3",
   "language": "python",
   "name": "python3"
  },
  "language_info": {
   "codemirror_mode": {
    "name": "ipython",
    "version": 3
   },
   "file_extension": ".py",
   "mimetype": "text/x-python",
   "name": "python",
   "nbconvert_exporter": "python",
   "pygments_lexer": "ipython3",
   "version": "3.8.8"
  }
 },
 "nbformat": 4,
 "nbformat_minor": 5
}
