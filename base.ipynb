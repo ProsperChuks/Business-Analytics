{
 "cells": [
  {
   "cell_type": "markdown",
   "metadata": {
    "id": "caCxNH8HHypR"
   },
   "source": [
    "# Dependencies"
   ]
  },
  {
   "cell_type": "code",
   "execution_count": 23,
   "metadata": {
    "id": "vOIWloN0CZpj"
   },
   "outputs": [],
   "source": [
    "import pandas as pd\n",
    "import pickle\n",
    "import matplotlib.pyplot as plt\n",
    "import seaborn as sns"
   ]
  },
  {
   "cell_type": "markdown",
   "metadata": {
    "id": "xWhTsF8PO3VQ"
   },
   "source": [
    "# Loading the Data"
   ]
  },
  {
   "cell_type": "code",
   "execution_count": 3,
   "metadata": {
    "colab": {
     "base_uri": "https://localhost:8080/",
     "height": 487
    },
    "id": "c3cV_9HPO-jn",
    "outputId": "756bc000-e4d8-4648-916f-72a4fae77be4"
   },
   "outputs": [
    {
     "data": {
      "text/html": [
       "<div>\n",
       "<style scoped>\n",
       "    .dataframe tbody tr th:only-of-type {\n",
       "        vertical-align: middle;\n",
       "    }\n",
       "\n",
       "    .dataframe tbody tr th {\n",
       "        vertical-align: top;\n",
       "    }\n",
       "\n",
       "    .dataframe thead th {\n",
       "        text-align: right;\n",
       "    }\n",
       "</style>\n",
       "<table border=\"1\" class=\"dataframe\">\n",
       "  <thead>\n",
       "    <tr style=\"text-align: right;\">\n",
       "      <th></th>\n",
       "      <th>user_id</th>\n",
       "      <th>Channel</th>\n",
       "      <th>TotalTransactionAmount</th>\n",
       "      <th>Tx_Count</th>\n",
       "      <th>DaysSinceLastTrans</th>\n",
       "      <th>reseller_id</th>\n",
       "      <th>superdealer_id</th>\n",
       "      <th>Product_ServiceProvider</th>\n",
       "      <th>Product_Type</th>\n",
       "      <th>Product_Category</th>\n",
       "    </tr>\n",
       "  </thead>\n",
       "  <tbody>\n",
       "    <tr>\n",
       "      <th>0</th>\n",
       "      <td>1191</td>\n",
       "      <td>8.0</td>\n",
       "      <td>532700</td>\n",
       "      <td>137</td>\n",
       "      <td>30</td>\n",
       "      <td>1130.0</td>\n",
       "      <td>18.0</td>\n",
       "      <td>Jos Electric</td>\n",
       "      <td>Postpaid</td>\n",
       "      <td>Electricity</td>\n",
       "    </tr>\n",
       "    <tr>\n",
       "      <th>1</th>\n",
       "      <td>1287</td>\n",
       "      <td>1.0</td>\n",
       "      <td>1635552</td>\n",
       "      <td>131</td>\n",
       "      <td>30</td>\n",
       "      <td>0.0</td>\n",
       "      <td>18.0</td>\n",
       "      <td>MTN</td>\n",
       "      <td>Airtime</td>\n",
       "      <td>Telco</td>\n",
       "    </tr>\n",
       "    <tr>\n",
       "      <th>2</th>\n",
       "      <td>1168</td>\n",
       "      <td>8.0</td>\n",
       "      <td>548300</td>\n",
       "      <td>114</td>\n",
       "      <td>30</td>\n",
       "      <td>1130.0</td>\n",
       "      <td>18.0</td>\n",
       "      <td>Jos Electric</td>\n",
       "      <td>Postpaid</td>\n",
       "      <td>Electricity</td>\n",
       "    </tr>\n",
       "    <tr>\n",
       "      <th>3</th>\n",
       "      <td>1119</td>\n",
       "      <td>2.0</td>\n",
       "      <td>12200</td>\n",
       "      <td>13</td>\n",
       "      <td>30</td>\n",
       "      <td>0.0</td>\n",
       "      <td>447.0</td>\n",
       "      <td>Airtel</td>\n",
       "      <td>Data</td>\n",
       "      <td>Telco</td>\n",
       "    </tr>\n",
       "    <tr>\n",
       "      <th>4</th>\n",
       "      <td>1168</td>\n",
       "      <td>8.0</td>\n",
       "      <td>211700</td>\n",
       "      <td>75</td>\n",
       "      <td>30</td>\n",
       "      <td>1130.0</td>\n",
       "      <td>18.0</td>\n",
       "      <td>Jos Electric</td>\n",
       "      <td>Prepaid</td>\n",
       "      <td>Electricity</td>\n",
       "    </tr>\n",
       "    <tr>\n",
       "      <th>...</th>\n",
       "      <td>...</td>\n",
       "      <td>...</td>\n",
       "      <td>...</td>\n",
       "      <td>...</td>\n",
       "      <td>...</td>\n",
       "      <td>...</td>\n",
       "      <td>...</td>\n",
       "      <td>...</td>\n",
       "      <td>...</td>\n",
       "      <td>...</td>\n",
       "    </tr>\n",
       "    <tr>\n",
       "      <th>2630</th>\n",
       "      <td>2421</td>\n",
       "      <td>1.0</td>\n",
       "      <td>1400</td>\n",
       "      <td>4</td>\n",
       "      <td>32</td>\n",
       "      <td>1130.0</td>\n",
       "      <td>18.0</td>\n",
       "      <td>MTN</td>\n",
       "      <td>Airtime</td>\n",
       "      <td>Telco</td>\n",
       "    </tr>\n",
       "    <tr>\n",
       "      <th>2631</th>\n",
       "      <td>49</td>\n",
       "      <td>8.0</td>\n",
       "      <td>1600</td>\n",
       "      <td>8</td>\n",
       "      <td>325</td>\n",
       "      <td>0.0</td>\n",
       "      <td>0.0</td>\n",
       "      <td>Ikeja Electric</td>\n",
       "      <td>Prepaid</td>\n",
       "      <td>Electricity</td>\n",
       "    </tr>\n",
       "    <tr>\n",
       "      <th>2632</th>\n",
       "      <td>49</td>\n",
       "      <td>8.0</td>\n",
       "      <td>200</td>\n",
       "      <td>1</td>\n",
       "      <td>329</td>\n",
       "      <td>0.0</td>\n",
       "      <td>0.0</td>\n",
       "      <td>Ikeja Electric</td>\n",
       "      <td>Postpaid</td>\n",
       "      <td>Electricity</td>\n",
       "    </tr>\n",
       "    <tr>\n",
       "      <th>2633</th>\n",
       "      <td>49</td>\n",
       "      <td>8.0</td>\n",
       "      <td>9000</td>\n",
       "      <td>9</td>\n",
       "      <td>329</td>\n",
       "      <td>0.0</td>\n",
       "      <td>0.0</td>\n",
       "      <td>Eko Electric</td>\n",
       "      <td>Prepaid</td>\n",
       "      <td>Electricity</td>\n",
       "    </tr>\n",
       "    <tr>\n",
       "      <th>2634</th>\n",
       "      <td>49</td>\n",
       "      <td>1.0</td>\n",
       "      <td>100</td>\n",
       "      <td>1</td>\n",
       "      <td>352</td>\n",
       "      <td>0.0</td>\n",
       "      <td>0.0</td>\n",
       "      <td>MTN</td>\n",
       "      <td>Airtime</td>\n",
       "      <td>Telco</td>\n",
       "    </tr>\n",
       "  </tbody>\n",
       "</table>\n",
       "<p>2635 rows × 10 columns</p>\n",
       "</div>"
      ],
      "text/plain": [
       "      user_id  Channel  TotalTransactionAmount  Tx_Count  DaysSinceLastTrans  \\\n",
       "0        1191      8.0                  532700       137                  30   \n",
       "1        1287      1.0                 1635552       131                  30   \n",
       "2        1168      8.0                  548300       114                  30   \n",
       "3        1119      2.0                   12200        13                  30   \n",
       "4        1168      8.0                  211700        75                  30   \n",
       "...       ...      ...                     ...       ...                 ...   \n",
       "2630     2421      1.0                    1400         4                  32   \n",
       "2631       49      8.0                    1600         8                 325   \n",
       "2632       49      8.0                     200         1                 329   \n",
       "2633       49      8.0                    9000         9                 329   \n",
       "2634       49      1.0                     100         1                 352   \n",
       "\n",
       "      reseller_id  superdealer_id Product_ServiceProvider Product_Type  \\\n",
       "0          1130.0            18.0            Jos Electric     Postpaid   \n",
       "1             0.0            18.0                     MTN      Airtime   \n",
       "2          1130.0            18.0            Jos Electric     Postpaid   \n",
       "3             0.0           447.0                  Airtel         Data   \n",
       "4          1130.0            18.0            Jos Electric      Prepaid   \n",
       "...           ...             ...                     ...          ...   \n",
       "2630       1130.0            18.0                     MTN      Airtime   \n",
       "2631          0.0             0.0          Ikeja Electric      Prepaid   \n",
       "2632          0.0             0.0          Ikeja Electric     Postpaid   \n",
       "2633          0.0             0.0            Eko Electric      Prepaid   \n",
       "2634          0.0             0.0                     MTN      Airtime   \n",
       "\n",
       "     Product_Category  \n",
       "0         Electricity  \n",
       "1               Telco  \n",
       "2         Electricity  \n",
       "3               Telco  \n",
       "4         Electricity  \n",
       "...               ...  \n",
       "2630            Telco  \n",
       "2631      Electricity  \n",
       "2632      Electricity  \n",
       "2633      Electricity  \n",
       "2634            Telco  \n",
       "\n",
       "[2635 rows x 10 columns]"
      ]
     },
     "execution_count": 3,
     "metadata": {},
     "output_type": "execute_result"
    }
   ],
   "source": [
    "df = pd.read_csv('data/assessment.csv')\n",
    "df"
   ]
  },
  {
   "cell_type": "markdown",
   "metadata": {
    "id": "YuJTFR0wOfRm"
   },
   "source": [
    "# Preprocessing"
   ]
  },
  {
   "cell_type": "code",
   "execution_count": 4,
   "metadata": {},
   "outputs": [
    {
     "data": {
      "text/html": [
       "<div>\n",
       "<style scoped>\n",
       "    .dataframe tbody tr th:only-of-type {\n",
       "        vertical-align: middle;\n",
       "    }\n",
       "\n",
       "    .dataframe tbody tr th {\n",
       "        vertical-align: top;\n",
       "    }\n",
       "\n",
       "    .dataframe thead th {\n",
       "        text-align: right;\n",
       "    }\n",
       "</style>\n",
       "<table border=\"1\" class=\"dataframe\">\n",
       "  <thead>\n",
       "    <tr style=\"text-align: right;\">\n",
       "      <th></th>\n",
       "      <th>user_id</th>\n",
       "      <th>Channel</th>\n",
       "      <th>TotalTransactionAmount</th>\n",
       "      <th>Tx_Count</th>\n",
       "      <th>DaysSinceLastTrans</th>\n",
       "      <th>reseller_id</th>\n",
       "      <th>superdealer_id</th>\n",
       "    </tr>\n",
       "  </thead>\n",
       "  <tbody>\n",
       "    <tr>\n",
       "      <th>count</th>\n",
       "      <td>2635.000000</td>\n",
       "      <td>2633.000000</td>\n",
       "      <td>2.635000e+03</td>\n",
       "      <td>2635.000000</td>\n",
       "      <td>2635.000000</td>\n",
       "      <td>2633.000000</td>\n",
       "      <td>2633.000000</td>\n",
       "    </tr>\n",
       "    <tr>\n",
       "      <th>mean</th>\n",
       "      <td>1251.568880</td>\n",
       "      <td>1.730725</td>\n",
       "      <td>5.815019e+04</td>\n",
       "      <td>91.971157</td>\n",
       "      <td>119.154459</td>\n",
       "      <td>108.876946</td>\n",
       "      <td>389.900494</td>\n",
       "    </tr>\n",
       "    <tr>\n",
       "      <th>std</th>\n",
       "      <td>664.557929</td>\n",
       "      <td>1.834539</td>\n",
       "      <td>5.766734e+05</td>\n",
       "      <td>1223.775908</td>\n",
       "      <td>84.336623</td>\n",
       "      <td>379.661037</td>\n",
       "      <td>271.553301</td>\n",
       "    </tr>\n",
       "    <tr>\n",
       "      <th>min</th>\n",
       "      <td>3.000000</td>\n",
       "      <td>1.000000</td>\n",
       "      <td>1.000000e+00</td>\n",
       "      <td>1.000000</td>\n",
       "      <td>30.000000</td>\n",
       "      <td>0.000000</td>\n",
       "      <td>0.000000</td>\n",
       "    </tr>\n",
       "    <tr>\n",
       "      <th>25%</th>\n",
       "      <td>816.000000</td>\n",
       "      <td>1.000000</td>\n",
       "      <td>2.000000e+02</td>\n",
       "      <td>1.000000</td>\n",
       "      <td>54.000000</td>\n",
       "      <td>0.000000</td>\n",
       "      <td>447.000000</td>\n",
       "    </tr>\n",
       "    <tr>\n",
       "      <th>50%</th>\n",
       "      <td>1140.000000</td>\n",
       "      <td>1.000000</td>\n",
       "      <td>1.000000e+03</td>\n",
       "      <td>3.000000</td>\n",
       "      <td>107.000000</td>\n",
       "      <td>0.000000</td>\n",
       "      <td>447.000000</td>\n",
       "    </tr>\n",
       "    <tr>\n",
       "      <th>75%</th>\n",
       "      <td>1613.500000</td>\n",
       "      <td>2.000000</td>\n",
       "      <td>4.952000e+03</td>\n",
       "      <td>9.000000</td>\n",
       "      <td>147.000000</td>\n",
       "      <td>0.000000</td>\n",
       "      <td>447.000000</td>\n",
       "    </tr>\n",
       "    <tr>\n",
       "      <th>max</th>\n",
       "      <td>2725.000000</td>\n",
       "      <td>10.000000</td>\n",
       "      <td>2.086921e+07</td>\n",
       "      <td>46531.000000</td>\n",
       "      <td>735.000000</td>\n",
       "      <td>2557.000000</td>\n",
       "      <td>2494.000000</td>\n",
       "    </tr>\n",
       "  </tbody>\n",
       "</table>\n",
       "</div>"
      ],
      "text/plain": [
       "           user_id      Channel  TotalTransactionAmount      Tx_Count  \\\n",
       "count  2635.000000  2633.000000            2.635000e+03   2635.000000   \n",
       "mean   1251.568880     1.730725            5.815019e+04     91.971157   \n",
       "std     664.557929     1.834539            5.766734e+05   1223.775908   \n",
       "min       3.000000     1.000000            1.000000e+00      1.000000   \n",
       "25%     816.000000     1.000000            2.000000e+02      1.000000   \n",
       "50%    1140.000000     1.000000            1.000000e+03      3.000000   \n",
       "75%    1613.500000     2.000000            4.952000e+03      9.000000   \n",
       "max    2725.000000    10.000000            2.086921e+07  46531.000000   \n",
       "\n",
       "       DaysSinceLastTrans  reseller_id  superdealer_id  \n",
       "count         2635.000000  2633.000000     2633.000000  \n",
       "mean           119.154459   108.876946      389.900494  \n",
       "std             84.336623   379.661037      271.553301  \n",
       "min             30.000000     0.000000        0.000000  \n",
       "25%             54.000000     0.000000      447.000000  \n",
       "50%            107.000000     0.000000      447.000000  \n",
       "75%            147.000000     0.000000      447.000000  \n",
       "max            735.000000  2557.000000     2494.000000  "
      ]
     },
     "execution_count": 4,
     "metadata": {},
     "output_type": "execute_result"
    }
   ],
   "source": [
    "df.describe()"
   ]
  },
  {
   "cell_type": "markdown",
   "metadata": {
    "id": "FjGv7zEROj4m"
   },
   "source": [
    "## Handling Missing Values"
   ]
  },
  {
   "cell_type": "code",
   "execution_count": 5,
   "metadata": {},
   "outputs": [
    {
     "data": {
      "text/plain": [
       "user_id                    0\n",
       "Channel                    0\n",
       "TotalTransactionAmount     0\n",
       "Tx_Count                   0\n",
       "DaysSinceLastTrans         0\n",
       "reseller_id                0\n",
       "superdealer_id             0\n",
       "Product_ServiceProvider    0\n",
       "Product_Type               0\n",
       "Product_Category           0\n",
       "dtype: int64"
      ]
     },
     "execution_count": 5,
     "metadata": {},
     "output_type": "execute_result"
    }
   ],
   "source": [
    "df.dropna(inplace=True)\n",
    "df.isnull().sum()"
   ]
  },
  {
   "cell_type": "markdown",
   "metadata": {},
   "source": [
    "# Seperating Services Provided\n",
    "to cluster customers into different segments"
   ]
  },
  {
   "cell_type": "code",
   "execution_count": 6,
   "metadata": {},
   "outputs": [
    {
     "data": {
      "text/plain": [
       "0      Electricity\n",
       "1            Telco\n",
       "2         Cable TV\n",
       "3    Universal Pin\n",
       "4        Education\n",
       "Name: Product_Category, dtype: object"
      ]
     },
     "execution_count": 6,
     "metadata": {},
     "output_type": "execute_result"
    }
   ],
   "source": [
    "cate = df.Product_Category.drop_duplicates()\n",
    "cate.reset_index(drop=True, inplace=True)\n",
    "cate"
   ]
  },
  {
   "cell_type": "code",
   "execution_count": 7,
   "metadata": {
    "scrolled": false
   },
   "outputs": [],
   "source": [
    "electric = df.loc[df.Product_Category == cate[0]]\n",
    "telecom = df.loc[df.Product_Category == cate[1]]\n",
    "cable = df.loc[df.Product_Category == cate[2]]\n",
    "pin = df.loc[df.Product_Category == cate[3]]\n",
    "edu = df.loc[df.Product_Category == cate[4]]"
   ]
  },
  {
   "cell_type": "code",
   "execution_count": 8,
   "metadata": {},
   "outputs": [],
   "source": [
    "pickle.dump(electric, open('serialized files/electric.pkl', 'wb'))\n",
    "pickle.dump(telecom, open('serialized files/telecom.pkl', 'wb'))\n",
    "pickle.dump(cable, open('serialized files/cable.pkl', 'wb'))\n",
    "pickle.dump(pin, open('serialized files/pin.pkl', 'wb'))\n",
    "pickle.dump(edu, open('serialized files/edu.pkl', 'wb'))"
   ]
  }
 ],
 "metadata": {
  "colab": {
   "collapsed_sections": [],
   "name": "base.ipynb",
   "provenance": [],
   "toc_visible": true
  },
  "kernelspec": {
   "display_name": "Python 3",
   "language": "python",
   "name": "python3"
  },
  "language_info": {
   "codemirror_mode": {
    "name": "ipython",
    "version": 3
   },
   "file_extension": ".py",
   "mimetype": "text/x-python",
   "name": "python",
   "nbconvert_exporter": "python",
   "pygments_lexer": "ipython3",
   "version": "3.8.8"
  }
 },
 "nbformat": 4,
 "nbformat_minor": 1
}
